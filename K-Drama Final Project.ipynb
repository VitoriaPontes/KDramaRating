{
  "nbformat": 4,
  "nbformat_minor": 0,
  "metadata": {
    "colab": {
      "provenance": [],
      "authorship_tag": "ABX9TyMwfYMUuW3ZNTHsMyUrSaw2"
    },
    "kernelspec": {
      "name": "python3",
      "display_name": "Python 3"
    },
    "language_info": {
      "name": "python"
    }
  },
  "cells": [
    {
      "cell_type": "markdown",
      "source": [
        "## **1. Introdução**"
      ],
      "metadata": {
        "id": "qvcQ-2nIIkdS"
      }
    },
    {
      "cell_type": "markdown",
      "source": [
        "Tendo em vista a influência que os K-Dramas, novelas coreanas, tem ao redor do mundo, esse projeto tem como intuito prever a média da avaliação dos usuários tendo como base vários elementos da obra. O conjunto de dados utilizado consiste na lista dos 100 *doramas* mais assistidos pelo público do site *MyDramaList*, uma rede social para acompanhar lançamentos de filmes e séries asiáticas.\n",
        "\n",
        "#### **Descrição e classificação das variáveis:**\n",
        "\n",
        "1. **Qualitativas nominais:**\n",
        "  * **Name:** O título da obra.\n",
        "  * **Aired On:** O(s) dia(s) da semana em que os episódios eram lançados.\n",
        "  * **Genres:** Os principais gêneros da obra.\n",
        "  * **Tags:** As principais dinâmicas e o estilo da obra.\n",
        "  * **Main Actors:** Os atores principais, com maior aparição.\n",
        "\n",
        "2. **Quantitativas discretas:**\n",
        "  * **Year:** O ano de lançamento.\n",
        "  * **Episodes:** O número de episódios.\n",
        "\n",
        "3. **Quantitativas contínuas:**\n",
        "  * **Ep. Duration:** A duração do episódio em horas.\n",
        "  * **Watchers:** A quantidade de pessoas que assistiram. Também é utilizado para ranquear a popularidade.\n",
        "  * **Rating:** É a média das avaliações, servindo como um parâmetro para entender a recepção do público para aquele conteúdo. É a variável que se dependente desse trabalho, seu foco de estudo.\n"
      ],
      "metadata": {
        "id": "LGE0wvxLOaAN"
      }
    },
    {
      "cell_type": "markdown",
      "source": [
        "## **2. Pré-processamento dos dados**\n",
        "\n",
        "### **2.1. Inicialização do conjunto:**"
      ],
      "metadata": {
        "id": "oHOmpx65Ozwg"
      }
    },
    {
      "cell_type": "code",
      "source": [
        "!pip install pgmpy"
      ],
      "metadata": {
        "colab": {
          "base_uri": "https://localhost:8080/"
        },
        "id": "XXGr0cMTLxYr",
        "outputId": "6b8caeef-16c7-4463-e5e8-592619aac358"
      },
      "execution_count": 144,
      "outputs": [
        {
          "output_type": "stream",
          "name": "stdout",
          "text": [
            "Requirement already satisfied: pgmpy in /usr/local/lib/python3.11/dist-packages (1.0.0)\n",
            "Requirement already satisfied: networkx in /usr/local/lib/python3.11/dist-packages (from pgmpy) (3.4.2)\n",
            "Requirement already satisfied: numpy in /usr/local/lib/python3.11/dist-packages (from pgmpy) (2.0.2)\n",
            "Requirement already satisfied: scipy in /usr/local/lib/python3.11/dist-packages (from pgmpy) (1.14.1)\n",
            "Requirement already satisfied: scikit-learn in /usr/local/lib/python3.11/dist-packages (from pgmpy) (1.6.1)\n",
            "Requirement already satisfied: pandas in /usr/local/lib/python3.11/dist-packages (from pgmpy) (2.2.2)\n",
            "Requirement already satisfied: torch in /usr/local/lib/python3.11/dist-packages (from pgmpy) (2.6.0+cu124)\n",
            "Requirement already satisfied: statsmodels in /usr/local/lib/python3.11/dist-packages (from pgmpy) (0.14.4)\n",
            "Requirement already satisfied: tqdm in /usr/local/lib/python3.11/dist-packages (from pgmpy) (4.67.1)\n",
            "Requirement already satisfied: joblib in /usr/local/lib/python3.11/dist-packages (from pgmpy) (1.4.2)\n",
            "Requirement already satisfied: opt-einsum in /usr/local/lib/python3.11/dist-packages (from pgmpy) (3.4.0)\n",
            "Requirement already satisfied: pyro-ppl in /usr/local/lib/python3.11/dist-packages (from pgmpy) (1.9.1)\n",
            "Requirement already satisfied: python-dateutil>=2.8.2 in /usr/local/lib/python3.11/dist-packages (from pandas->pgmpy) (2.8.2)\n",
            "Requirement already satisfied: pytz>=2020.1 in /usr/local/lib/python3.11/dist-packages (from pandas->pgmpy) (2025.2)\n",
            "Requirement already satisfied: tzdata>=2022.7 in /usr/local/lib/python3.11/dist-packages (from pandas->pgmpy) (2025.2)\n",
            "Requirement already satisfied: pyro-api>=0.1.1 in /usr/local/lib/python3.11/dist-packages (from pyro-ppl->pgmpy) (0.1.2)\n",
            "Requirement already satisfied: filelock in /usr/local/lib/python3.11/dist-packages (from torch->pgmpy) (3.18.0)\n",
            "Requirement already satisfied: typing-extensions>=4.10.0 in /usr/local/lib/python3.11/dist-packages (from torch->pgmpy) (4.13.1)\n",
            "Requirement already satisfied: jinja2 in /usr/local/lib/python3.11/dist-packages (from torch->pgmpy) (3.1.6)\n",
            "Requirement already satisfied: fsspec in /usr/local/lib/python3.11/dist-packages (from torch->pgmpy) (2025.3.2)\n",
            "Requirement already satisfied: nvidia-cuda-nvrtc-cu12==12.4.127 in /usr/local/lib/python3.11/dist-packages (from torch->pgmpy) (12.4.127)\n",
            "Requirement already satisfied: nvidia-cuda-runtime-cu12==12.4.127 in /usr/local/lib/python3.11/dist-packages (from torch->pgmpy) (12.4.127)\n",
            "Requirement already satisfied: nvidia-cuda-cupti-cu12==12.4.127 in /usr/local/lib/python3.11/dist-packages (from torch->pgmpy) (12.4.127)\n",
            "Requirement already satisfied: nvidia-cudnn-cu12==9.1.0.70 in /usr/local/lib/python3.11/dist-packages (from torch->pgmpy) (9.1.0.70)\n",
            "Requirement already satisfied: nvidia-cublas-cu12==12.4.5.8 in /usr/local/lib/python3.11/dist-packages (from torch->pgmpy) (12.4.5.8)\n",
            "Requirement already satisfied: nvidia-cufft-cu12==11.2.1.3 in /usr/local/lib/python3.11/dist-packages (from torch->pgmpy) (11.2.1.3)\n",
            "Requirement already satisfied: nvidia-curand-cu12==10.3.5.147 in /usr/local/lib/python3.11/dist-packages (from torch->pgmpy) (10.3.5.147)\n",
            "Requirement already satisfied: nvidia-cusolver-cu12==11.6.1.9 in /usr/local/lib/python3.11/dist-packages (from torch->pgmpy) (11.6.1.9)\n",
            "Requirement already satisfied: nvidia-cusparse-cu12==12.3.1.170 in /usr/local/lib/python3.11/dist-packages (from torch->pgmpy) (12.3.1.170)\n",
            "Requirement already satisfied: nvidia-cusparselt-cu12==0.6.2 in /usr/local/lib/python3.11/dist-packages (from torch->pgmpy) (0.6.2)\n",
            "Requirement already satisfied: nvidia-nccl-cu12==2.21.5 in /usr/local/lib/python3.11/dist-packages (from torch->pgmpy) (2.21.5)\n",
            "Requirement already satisfied: nvidia-nvtx-cu12==12.4.127 in /usr/local/lib/python3.11/dist-packages (from torch->pgmpy) (12.4.127)\n",
            "Requirement already satisfied: nvidia-nvjitlink-cu12==12.4.127 in /usr/local/lib/python3.11/dist-packages (from torch->pgmpy) (12.4.127)\n",
            "Requirement already satisfied: triton==3.2.0 in /usr/local/lib/python3.11/dist-packages (from torch->pgmpy) (3.2.0)\n",
            "Requirement already satisfied: sympy==1.13.1 in /usr/local/lib/python3.11/dist-packages (from torch->pgmpy) (1.13.1)\n",
            "Requirement already satisfied: mpmath<1.4,>=1.1.0 in /usr/local/lib/python3.11/dist-packages (from sympy==1.13.1->torch->pgmpy) (1.3.0)\n",
            "Requirement already satisfied: threadpoolctl>=3.1.0 in /usr/local/lib/python3.11/dist-packages (from scikit-learn->pgmpy) (3.6.0)\n",
            "Requirement already satisfied: patsy>=0.5.6 in /usr/local/lib/python3.11/dist-packages (from statsmodels->pgmpy) (1.0.1)\n",
            "Requirement already satisfied: packaging>=21.3 in /usr/local/lib/python3.11/dist-packages (from statsmodels->pgmpy) (24.2)\n",
            "Requirement already satisfied: six>=1.5 in /usr/local/lib/python3.11/dist-packages (from python-dateutil>=2.8.2->pandas->pgmpy) (1.17.0)\n",
            "Requirement already satisfied: MarkupSafe>=2.0 in /usr/local/lib/python3.11/dist-packages (from jinja2->torch->pgmpy) (3.0.2)\n"
          ]
        }
      ]
    },
    {
      "cell_type": "code",
      "execution_count": 145,
      "metadata": {
        "colab": {
          "base_uri": "https://localhost:8080/",
          "height": 571
        },
        "id": "qbMSNnbVOM4g",
        "outputId": "a69e2fde-6f8a-4369-d992-0a7c554df45a"
      },
      "outputs": [
        {
          "output_type": "stream",
          "name": "stdout",
          "text": [
            "<class 'pandas.core.frame.DataFrame'>\n",
            "RangeIndex: 100 entries, 0 to 99\n",
            "Data columns (total 10 columns):\n",
            " #   Column        Non-Null Count  Dtype  \n",
            "---  ------        --------------  -----  \n",
            " 0   Name          100 non-null    object \n",
            " 1   Year          100 non-null    int64  \n",
            " 2   Rating        100 non-null    float64\n",
            " 3   Watchers      100 non-null    object \n",
            " 4   Episodes      100 non-null    int64  \n",
            " 5   Ep. Duration  100 non-null    object \n",
            " 6   Aired On      100 non-null    object \n",
            " 7   Genres        100 non-null    object \n",
            " 8   Tags          100 non-null    object \n",
            " 9   Main Actors   100 non-null    object \n",
            "dtypes: float64(1), int64(2), object(7)\n",
            "memory usage: 7.9+ KB\n"
          ]
        },
        {
          "output_type": "execute_result",
          "data": {
            "text/plain": [
              "                              Name  Year  Rating Watchers  Episodes  \\\n",
              "0                           Goblin  2016     8.8  254,985        16   \n",
              "1        Strong Woman Do Bong Soon  2016     8.7  239,773        16   \n",
              "2         It's Okay to Not Be Okay  2020     8.9  215,957        16   \n",
              "3           Descendants of the Sun  2016     8.6  213,187        16   \n",
              "4  What's Wrong with Secretary Kim  2018     8.5  212,766        16   \n",
              "\n",
              "  Ep. Duration             Aired On                              Genres  \\\n",
              "0        01:22     Friday, Saturday    Comedy,Romance,Fantasy,Melodrama   \n",
              "1        01:07     Friday, Saturday  Action,Comedy,Romance,Supernatural   \n",
              "2        01:15     Saturday, Sunday  Psychological,Comedy,Romance,Drama   \n",
              "3        01:00  Wednesday, Thursday  Action,Comedy,Romance,Supernatural   \n",
              "4        01:09  Wednesday, Thursday             Business,Comedy,Romance   \n",
              "\n",
              "                                                Tags  \\\n",
              "0  Older Man/Younger Woman,Interspecies Romance,D...   \n",
              "1  Superhuman Strenght,Love Triangle,Nice Male Le...   \n",
              "2  Independent Female Lead,Possessive Female Lead...   \n",
              "3  Military,Bromance,Multiple Couples,Hardworking...   \n",
              "4  Boss-Employee Relationship,Rich Male Lead,Adap...   \n",
              "\n",
              "                                         Main Actors  \n",
              "0  Gong Yoo,Kim Go Eun,Lee Dong Wook,Yoo In Na,Yo...  \n",
              "1            Park Bo Young,Park Hyung Sik,Kim Ji Soo  \n",
              "2                 Kim Soo Hyun,Seo Yea Ji,Oh Jung Se  \n",
              "3      Song Joong Ki,Song Hye Kyo,Jin Goo,Kim Ji Won  \n",
              "4                       Park Min Young,Park Seo Joon  "
            ],
            "text/html": [
              "\n",
              "  <div id=\"df-148ee401-ce2b-42fe-bdd5-0f56f3fdf833\" class=\"colab-df-container\">\n",
              "    <div>\n",
              "<style scoped>\n",
              "    .dataframe tbody tr th:only-of-type {\n",
              "        vertical-align: middle;\n",
              "    }\n",
              "\n",
              "    .dataframe tbody tr th {\n",
              "        vertical-align: top;\n",
              "    }\n",
              "\n",
              "    .dataframe thead th {\n",
              "        text-align: right;\n",
              "    }\n",
              "</style>\n",
              "<table border=\"1\" class=\"dataframe\">\n",
              "  <thead>\n",
              "    <tr style=\"text-align: right;\">\n",
              "      <th></th>\n",
              "      <th>Name</th>\n",
              "      <th>Year</th>\n",
              "      <th>Rating</th>\n",
              "      <th>Watchers</th>\n",
              "      <th>Episodes</th>\n",
              "      <th>Ep. Duration</th>\n",
              "      <th>Aired On</th>\n",
              "      <th>Genres</th>\n",
              "      <th>Tags</th>\n",
              "      <th>Main Actors</th>\n",
              "    </tr>\n",
              "  </thead>\n",
              "  <tbody>\n",
              "    <tr>\n",
              "      <th>0</th>\n",
              "      <td>Goblin</td>\n",
              "      <td>2016</td>\n",
              "      <td>8.8</td>\n",
              "      <td>254,985</td>\n",
              "      <td>16</td>\n",
              "      <td>01:22</td>\n",
              "      <td>Friday, Saturday</td>\n",
              "      <td>Comedy,Romance,Fantasy,Melodrama</td>\n",
              "      <td>Older Man/Younger Woman,Interspecies Romance,D...</td>\n",
              "      <td>Gong Yoo,Kim Go Eun,Lee Dong Wook,Yoo In Na,Yo...</td>\n",
              "    </tr>\n",
              "    <tr>\n",
              "      <th>1</th>\n",
              "      <td>Strong Woman Do Bong Soon</td>\n",
              "      <td>2016</td>\n",
              "      <td>8.7</td>\n",
              "      <td>239,773</td>\n",
              "      <td>16</td>\n",
              "      <td>01:07</td>\n",
              "      <td>Friday, Saturday</td>\n",
              "      <td>Action,Comedy,Romance,Supernatural</td>\n",
              "      <td>Superhuman Strenght,Love Triangle,Nice Male Le...</td>\n",
              "      <td>Park Bo Young,Park Hyung Sik,Kim Ji Soo</td>\n",
              "    </tr>\n",
              "    <tr>\n",
              "      <th>2</th>\n",
              "      <td>It's Okay to Not Be Okay</td>\n",
              "      <td>2020</td>\n",
              "      <td>8.9</td>\n",
              "      <td>215,957</td>\n",
              "      <td>16</td>\n",
              "      <td>01:15</td>\n",
              "      <td>Saturday, Sunday</td>\n",
              "      <td>Psychological,Comedy,Romance,Drama</td>\n",
              "      <td>Independent Female Lead,Possessive Female Lead...</td>\n",
              "      <td>Kim Soo Hyun,Seo Yea Ji,Oh Jung Se</td>\n",
              "    </tr>\n",
              "    <tr>\n",
              "      <th>3</th>\n",
              "      <td>Descendants of the Sun</td>\n",
              "      <td>2016</td>\n",
              "      <td>8.6</td>\n",
              "      <td>213,187</td>\n",
              "      <td>16</td>\n",
              "      <td>01:00</td>\n",
              "      <td>Wednesday, Thursday</td>\n",
              "      <td>Action,Comedy,Romance,Supernatural</td>\n",
              "      <td>Military,Bromance,Multiple Couples,Hardworking...</td>\n",
              "      <td>Song Joong Ki,Song Hye Kyo,Jin Goo,Kim Ji Won</td>\n",
              "    </tr>\n",
              "    <tr>\n",
              "      <th>4</th>\n",
              "      <td>What's Wrong with Secretary Kim</td>\n",
              "      <td>2018</td>\n",
              "      <td>8.5</td>\n",
              "      <td>212,766</td>\n",
              "      <td>16</td>\n",
              "      <td>01:09</td>\n",
              "      <td>Wednesday, Thursday</td>\n",
              "      <td>Business,Comedy,Romance</td>\n",
              "      <td>Boss-Employee Relationship,Rich Male Lead,Adap...</td>\n",
              "      <td>Park Min Young,Park Seo Joon</td>\n",
              "    </tr>\n",
              "  </tbody>\n",
              "</table>\n",
              "</div>\n",
              "    <div class=\"colab-df-buttons\">\n",
              "\n",
              "  <div class=\"colab-df-container\">\n",
              "    <button class=\"colab-df-convert\" onclick=\"convertToInteractive('df-148ee401-ce2b-42fe-bdd5-0f56f3fdf833')\"\n",
              "            title=\"Convert this dataframe to an interactive table.\"\n",
              "            style=\"display:none;\">\n",
              "\n",
              "  <svg xmlns=\"http://www.w3.org/2000/svg\" height=\"24px\" viewBox=\"0 -960 960 960\">\n",
              "    <path d=\"M120-120v-720h720v720H120Zm60-500h600v-160H180v160Zm220 220h160v-160H400v160Zm0 220h160v-160H400v160ZM180-400h160v-160H180v160Zm440 0h160v-160H620v160ZM180-180h160v-160H180v160Zm440 0h160v-160H620v160Z\"/>\n",
              "  </svg>\n",
              "    </button>\n",
              "\n",
              "  <style>\n",
              "    .colab-df-container {\n",
              "      display:flex;\n",
              "      gap: 12px;\n",
              "    }\n",
              "\n",
              "    .colab-df-convert {\n",
              "      background-color: #E8F0FE;\n",
              "      border: none;\n",
              "      border-radius: 50%;\n",
              "      cursor: pointer;\n",
              "      display: none;\n",
              "      fill: #1967D2;\n",
              "      height: 32px;\n",
              "      padding: 0 0 0 0;\n",
              "      width: 32px;\n",
              "    }\n",
              "\n",
              "    .colab-df-convert:hover {\n",
              "      background-color: #E2EBFA;\n",
              "      box-shadow: 0px 1px 2px rgba(60, 64, 67, 0.3), 0px 1px 3px 1px rgba(60, 64, 67, 0.15);\n",
              "      fill: #174EA6;\n",
              "    }\n",
              "\n",
              "    .colab-df-buttons div {\n",
              "      margin-bottom: 4px;\n",
              "    }\n",
              "\n",
              "    [theme=dark] .colab-df-convert {\n",
              "      background-color: #3B4455;\n",
              "      fill: #D2E3FC;\n",
              "    }\n",
              "\n",
              "    [theme=dark] .colab-df-convert:hover {\n",
              "      background-color: #434B5C;\n",
              "      box-shadow: 0px 1px 3px 1px rgba(0, 0, 0, 0.15);\n",
              "      filter: drop-shadow(0px 1px 2px rgba(0, 0, 0, 0.3));\n",
              "      fill: #FFFFFF;\n",
              "    }\n",
              "  </style>\n",
              "\n",
              "    <script>\n",
              "      const buttonEl =\n",
              "        document.querySelector('#df-148ee401-ce2b-42fe-bdd5-0f56f3fdf833 button.colab-df-convert');\n",
              "      buttonEl.style.display =\n",
              "        google.colab.kernel.accessAllowed ? 'block' : 'none';\n",
              "\n",
              "      async function convertToInteractive(key) {\n",
              "        const element = document.querySelector('#df-148ee401-ce2b-42fe-bdd5-0f56f3fdf833');\n",
              "        const dataTable =\n",
              "          await google.colab.kernel.invokeFunction('convertToInteractive',\n",
              "                                                    [key], {});\n",
              "        if (!dataTable) return;\n",
              "\n",
              "        const docLinkHtml = 'Like what you see? Visit the ' +\n",
              "          '<a target=\"_blank\" href=https://colab.research.google.com/notebooks/data_table.ipynb>data table notebook</a>'\n",
              "          + ' to learn more about interactive tables.';\n",
              "        element.innerHTML = '';\n",
              "        dataTable['output_type'] = 'display_data';\n",
              "        await google.colab.output.renderOutput(dataTable, element);\n",
              "        const docLink = document.createElement('div');\n",
              "        docLink.innerHTML = docLinkHtml;\n",
              "        element.appendChild(docLink);\n",
              "      }\n",
              "    </script>\n",
              "  </div>\n",
              "\n",
              "\n",
              "<div id=\"df-213f80c6-a359-4895-b893-b5cfa3db959b\">\n",
              "  <button class=\"colab-df-quickchart\" onclick=\"quickchart('df-213f80c6-a359-4895-b893-b5cfa3db959b')\"\n",
              "            title=\"Suggest charts\"\n",
              "            style=\"display:none;\">\n",
              "\n",
              "<svg xmlns=\"http://www.w3.org/2000/svg\" height=\"24px\"viewBox=\"0 0 24 24\"\n",
              "     width=\"24px\">\n",
              "    <g>\n",
              "        <path d=\"M19 3H5c-1.1 0-2 .9-2 2v14c0 1.1.9 2 2 2h14c1.1 0 2-.9 2-2V5c0-1.1-.9-2-2-2zM9 17H7v-7h2v7zm4 0h-2V7h2v10zm4 0h-2v-4h2v4z\"/>\n",
              "    </g>\n",
              "</svg>\n",
              "  </button>\n",
              "\n",
              "<style>\n",
              "  .colab-df-quickchart {\n",
              "      --bg-color: #E8F0FE;\n",
              "      --fill-color: #1967D2;\n",
              "      --hover-bg-color: #E2EBFA;\n",
              "      --hover-fill-color: #174EA6;\n",
              "      --disabled-fill-color: #AAA;\n",
              "      --disabled-bg-color: #DDD;\n",
              "  }\n",
              "\n",
              "  [theme=dark] .colab-df-quickchart {\n",
              "      --bg-color: #3B4455;\n",
              "      --fill-color: #D2E3FC;\n",
              "      --hover-bg-color: #434B5C;\n",
              "      --hover-fill-color: #FFFFFF;\n",
              "      --disabled-bg-color: #3B4455;\n",
              "      --disabled-fill-color: #666;\n",
              "  }\n",
              "\n",
              "  .colab-df-quickchart {\n",
              "    background-color: var(--bg-color);\n",
              "    border: none;\n",
              "    border-radius: 50%;\n",
              "    cursor: pointer;\n",
              "    display: none;\n",
              "    fill: var(--fill-color);\n",
              "    height: 32px;\n",
              "    padding: 0;\n",
              "    width: 32px;\n",
              "  }\n",
              "\n",
              "  .colab-df-quickchart:hover {\n",
              "    background-color: var(--hover-bg-color);\n",
              "    box-shadow: 0 1px 2px rgba(60, 64, 67, 0.3), 0 1px 3px 1px rgba(60, 64, 67, 0.15);\n",
              "    fill: var(--button-hover-fill-color);\n",
              "  }\n",
              "\n",
              "  .colab-df-quickchart-complete:disabled,\n",
              "  .colab-df-quickchart-complete:disabled:hover {\n",
              "    background-color: var(--disabled-bg-color);\n",
              "    fill: var(--disabled-fill-color);\n",
              "    box-shadow: none;\n",
              "  }\n",
              "\n",
              "  .colab-df-spinner {\n",
              "    border: 2px solid var(--fill-color);\n",
              "    border-color: transparent;\n",
              "    border-bottom-color: var(--fill-color);\n",
              "    animation:\n",
              "      spin 1s steps(1) infinite;\n",
              "  }\n",
              "\n",
              "  @keyframes spin {\n",
              "    0% {\n",
              "      border-color: transparent;\n",
              "      border-bottom-color: var(--fill-color);\n",
              "      border-left-color: var(--fill-color);\n",
              "    }\n",
              "    20% {\n",
              "      border-color: transparent;\n",
              "      border-left-color: var(--fill-color);\n",
              "      border-top-color: var(--fill-color);\n",
              "    }\n",
              "    30% {\n",
              "      border-color: transparent;\n",
              "      border-left-color: var(--fill-color);\n",
              "      border-top-color: var(--fill-color);\n",
              "      border-right-color: var(--fill-color);\n",
              "    }\n",
              "    40% {\n",
              "      border-color: transparent;\n",
              "      border-right-color: var(--fill-color);\n",
              "      border-top-color: var(--fill-color);\n",
              "    }\n",
              "    60% {\n",
              "      border-color: transparent;\n",
              "      border-right-color: var(--fill-color);\n",
              "    }\n",
              "    80% {\n",
              "      border-color: transparent;\n",
              "      border-right-color: var(--fill-color);\n",
              "      border-bottom-color: var(--fill-color);\n",
              "    }\n",
              "    90% {\n",
              "      border-color: transparent;\n",
              "      border-bottom-color: var(--fill-color);\n",
              "    }\n",
              "  }\n",
              "</style>\n",
              "\n",
              "  <script>\n",
              "    async function quickchart(key) {\n",
              "      const quickchartButtonEl =\n",
              "        document.querySelector('#' + key + ' button');\n",
              "      quickchartButtonEl.disabled = true;  // To prevent multiple clicks.\n",
              "      quickchartButtonEl.classList.add('colab-df-spinner');\n",
              "      try {\n",
              "        const charts = await google.colab.kernel.invokeFunction(\n",
              "            'suggestCharts', [key], {});\n",
              "      } catch (error) {\n",
              "        console.error('Error during call to suggestCharts:', error);\n",
              "      }\n",
              "      quickchartButtonEl.classList.remove('colab-df-spinner');\n",
              "      quickchartButtonEl.classList.add('colab-df-quickchart-complete');\n",
              "    }\n",
              "    (() => {\n",
              "      let quickchartButtonEl =\n",
              "        document.querySelector('#df-213f80c6-a359-4895-b893-b5cfa3db959b button');\n",
              "      quickchartButtonEl.style.display =\n",
              "        google.colab.kernel.accessAllowed ? 'block' : 'none';\n",
              "    })();\n",
              "  </script>\n",
              "</div>\n",
              "\n",
              "    </div>\n",
              "  </div>\n"
            ],
            "application/vnd.google.colaboratory.intrinsic+json": {
              "type": "dataframe",
              "variable_name": "drama",
              "summary": "{\n  \"name\": \"drama\",\n  \"rows\": 100,\n  \"fields\": [\n    {\n      \"column\": \"Name\",\n      \"properties\": {\n        \"dtype\": \"string\",\n        \"num_unique_values\": 100,\n        \"samples\": [\n          \"Queen of Tears\",\n          \"Cheese in the Trap\",\n          \"Twinkling Watermelon\"\n        ],\n        \"semantic_type\": \"\",\n        \"description\": \"\"\n      }\n    },\n    {\n      \"column\": \"Year\",\n      \"properties\": {\n        \"dtype\": \"number\",\n        \"std\": 3,\n        \"min\": 2007,\n        \"max\": 2024,\n        \"num_unique_values\": 16,\n        \"samples\": [\n          2016,\n          2020,\n          2017\n        ],\n        \"semantic_type\": \"\",\n        \"description\": \"\"\n      }\n    },\n    {\n      \"column\": \"Rating\",\n      \"properties\": {\n        \"dtype\": \"number\",\n        \"std\": 0.4551123737356223,\n        \"min\": 7.1,\n        \"max\": 9.2,\n        \"num_unique_values\": 20,\n        \"samples\": [\n          8.8,\n          9.2,\n          8.0\n        ],\n        \"semantic_type\": \"\",\n        \"description\": \"\"\n      }\n    },\n    {\n      \"column\": \"Watchers\",\n      \"properties\": {\n        \"dtype\": \"string\",\n        \"num_unique_values\": 100,\n        \"samples\": [\n          \"92,911\",\n          \"107,382\",\n          \"98,619\"\n        ],\n        \"semantic_type\": \"\",\n        \"description\": \"\"\n      }\n    },\n    {\n      \"column\": \"Episodes\",\n      \"properties\": {\n        \"dtype\": \"number\",\n        \"std\": 5,\n        \"min\": 8,\n        \"max\": 40,\n        \"num_unique_values\": 13,\n        \"samples\": [\n          18,\n          10,\n          16\n        ],\n        \"semantic_type\": \"\",\n        \"description\": \"\"\n      }\n    },\n    {\n      \"column\": \"Ep. Duration\",\n      \"properties\": {\n        \"dtype\": \"object\",\n        \"num_unique_values\": 33,\n        \"samples\": [\n          \"0:55\",\n          \"0:30\",\n          \"1:04\"\n        ],\n        \"semantic_type\": \"\",\n        \"description\": \"\"\n      }\n    },\n    {\n      \"column\": \"Aired On\",\n      \"properties\": {\n        \"dtype\": \"category\",\n        \"num_unique_values\": 9,\n        \"samples\": [\n          \"Saturday\",\n          \"Saturday, Sunday\",\n          \"Friday\"\n        ],\n        \"semantic_type\": \"\",\n        \"description\": \"\"\n      }\n    },\n    {\n      \"column\": \"Genres\",\n      \"properties\": {\n        \"dtype\": \"string\",\n        \"num_unique_values\": 78,\n        \"samples\": [\n          \"Action,Horror,Drama,Sci-Fi\",\n          \"Comedy,Romance,Fantasy,Melodrama\",\n          \"Business,Comedy,Romance,Melodrama\"\n        ],\n        \"semantic_type\": \"\",\n        \"description\": \"\"\n      }\n    },\n    {\n      \"column\": \"Tags\",\n      \"properties\": {\n        \"dtype\": \"string\",\n        \"num_unique_values\": 100,\n        \"samples\": [\n          \"Rich Family,Company President (CEO) Female Lead,Lawyer Male Lead,Black Comedy,Heiress Female Lead,Second Chance Romance,Married Life,Illness,Conglomerate,Prestigious Family\",\n          \"Adapted From A Webtoon,Rich Male Lead,Stalking,Enemies To Lovers,Cold Male Lead,Possessive Male Lead,Love Triangle,School Bullying,Smart Female Lead,Smart Male Lead\",\n          \"Time Travel,Child From The Future,Sign Language,Father-Son Relationship,Deafness,1990s,Music,Coming Of Age,Friendship,Comedy\"\n        ],\n        \"semantic_type\": \"\",\n        \"description\": \"\"\n      }\n    },\n    {\n      \"column\": \"Main Actors\",\n      \"properties\": {\n        \"dtype\": \"string\",\n        \"num_unique_values\": 99,\n        \"samples\": [\n          \"Han So Hee,Song Kang,Chae Jong Hyeop,Lee Yeol Eum,Yang Hye Ji\",\n          \"Park So Dam,Jung Il Woo,Ahn Jae Hyun,Lee Jung Shin,Choi Shang,Son Na Eun\",\n          \"Bae Suzy,Kim Soo Hyun,Ok Taec Yeon,Ham Eun Jung,Jang Woo Young,IU\"\n        ],\n        \"semantic_type\": \"\",\n        \"description\": \"\"\n      }\n    }\n  ]\n}"
            }
          },
          "metadata": {},
          "execution_count": 145
        }
      ],
      "source": [
        "import pandas as pd\n",
        "import numpy as np\n",
        "import seaborn as sns\n",
        "import matplotlib.pyplot as plt\n",
        "import scipy.stats as stats\n",
        "import networkx as nx\n",
        "from pgmpy.models import DiscreteBayesianNetwork\n",
        "from pgmpy.inference import VariableElimination\n",
        "from pgmpy.factors.discrete import TabularCPD\n",
        "from pgmpy.estimators import BayesianEstimator\n",
        "\n",
        "\n",
        "drama = pd.read_csv('https://raw.githubusercontent.com/VitoriaPontes/KDramaRating/refs/heads/main/top%20100%20most%20popular%20k-dramas.csv')\n",
        "drama.info()\n",
        "drama.head()"
      ]
    },
    {
      "cell_type": "markdown",
      "source": [
        "O dataset **drama** possui 10 variáveis e 100 valores não-nulos, sendo necessário algumas mudanças iniciais para melhor utilização dos dados."
      ],
      "metadata": {
        "id": "syxIMnnWO32q"
      }
    },
    {
      "cell_type": "markdown",
      "source": [
        "### **2.2. Ajustando o conjunto**\n",
        "\n",
        "Visualizando as informações e as informações da tabela, é possível perceber que a variável **Watchers** está incorretamente atribuida como *object*, quando deveria ser *int*. Além disso, as variáveis **Genres**, **Tags** e **Main Actors** devem ser transformadas em listas de objetos com o intuito de visualizar melhor cada elemento."
      ],
      "metadata": {
        "id": "HDn3I2C3O8kB"
      }
    },
    {
      "cell_type": "code",
      "source": [
        "drama['Watchers'] = drama['Watchers'].str.replace(',', '')\n",
        "drama['Watchers'] = drama['Watchers'].astype(int)\n",
        "drama['Genres'] = drama['Genres'].str.split(',')\n",
        "drama['Tags'] = drama['Tags'].str.split(',')\n",
        "drama['Main Actors'] = drama['Main Actors'].str.split(',')"
      ],
      "metadata": {
        "id": "4eDII61KPE-A"
      },
      "execution_count": 146,
      "outputs": []
    },
    {
      "cell_type": "code",
      "source": [
        "drama.info()\n",
        "drama.head()"
      ],
      "metadata": {
        "colab": {
          "base_uri": "https://localhost:8080/",
          "height": 588
        },
        "id": "YVMxXt8_PBI8",
        "outputId": "808df7d8-94ea-411f-f673-cef07837867e"
      },
      "execution_count": 147,
      "outputs": [
        {
          "output_type": "stream",
          "name": "stdout",
          "text": [
            "<class 'pandas.core.frame.DataFrame'>\n",
            "RangeIndex: 100 entries, 0 to 99\n",
            "Data columns (total 10 columns):\n",
            " #   Column        Non-Null Count  Dtype  \n",
            "---  ------        --------------  -----  \n",
            " 0   Name          100 non-null    object \n",
            " 1   Year          100 non-null    int64  \n",
            " 2   Rating        100 non-null    float64\n",
            " 3   Watchers      100 non-null    int64  \n",
            " 4   Episodes      100 non-null    int64  \n",
            " 5   Ep. Duration  100 non-null    object \n",
            " 6   Aired On      100 non-null    object \n",
            " 7   Genres        100 non-null    object \n",
            " 8   Tags          100 non-null    object \n",
            " 9   Main Actors   100 non-null    object \n",
            "dtypes: float64(1), int64(3), object(6)\n",
            "memory usage: 7.9+ KB\n"
          ]
        },
        {
          "output_type": "execute_result",
          "data": {
            "text/plain": [
              "                              Name  Year  Rating  Watchers  Episodes  \\\n",
              "0                           Goblin  2016     8.8    254985        16   \n",
              "1        Strong Woman Do Bong Soon  2016     8.7    239773        16   \n",
              "2         It's Okay to Not Be Okay  2020     8.9    215957        16   \n",
              "3           Descendants of the Sun  2016     8.6    213187        16   \n",
              "4  What's Wrong with Secretary Kim  2018     8.5    212766        16   \n",
              "\n",
              "  Ep. Duration             Aired On                                   Genres  \\\n",
              "0        01:22     Friday, Saturday    [Comedy, Romance, Fantasy, Melodrama]   \n",
              "1        01:07     Friday, Saturday  [Action, Comedy, Romance, Supernatural]   \n",
              "2        01:15     Saturday, Sunday  [Psychological, Comedy, Romance, Drama]   \n",
              "3        01:00  Wednesday, Thursday  [Action, Comedy, Romance, Supernatural]   \n",
              "4        01:09  Wednesday, Thursday              [Business, Comedy, Romance]   \n",
              "\n",
              "                                                Tags  \\\n",
              "0  [Older Man/Younger Woman, Interspecies Romance...   \n",
              "1  [Superhuman Strenght, Love Triangle, Nice Male...   \n",
              "2  [Independent Female Lead, Possessive Female Le...   \n",
              "3  [Military, Bromance, Multiple Couples, Hardwor...   \n",
              "4  [Boss-Employee Relationship, Rich Male Lead, A...   \n",
              "\n",
              "                                         Main Actors  \n",
              "0  [Gong Yoo, Kim Go Eun, Lee Dong Wook, Yoo In N...  \n",
              "1        [Park Bo Young, Park Hyung Sik, Kim Ji Soo]  \n",
              "2             [Kim Soo Hyun, Seo Yea Ji, Oh Jung Se]  \n",
              "3  [Song Joong Ki, Song Hye Kyo, Jin Goo, Kim Ji ...  \n",
              "4                    [Park Min Young, Park Seo Joon]  "
            ],
            "text/html": [
              "\n",
              "  <div id=\"df-35192529-54cd-4c93-a004-39539719e7b1\" class=\"colab-df-container\">\n",
              "    <div>\n",
              "<style scoped>\n",
              "    .dataframe tbody tr th:only-of-type {\n",
              "        vertical-align: middle;\n",
              "    }\n",
              "\n",
              "    .dataframe tbody tr th {\n",
              "        vertical-align: top;\n",
              "    }\n",
              "\n",
              "    .dataframe thead th {\n",
              "        text-align: right;\n",
              "    }\n",
              "</style>\n",
              "<table border=\"1\" class=\"dataframe\">\n",
              "  <thead>\n",
              "    <tr style=\"text-align: right;\">\n",
              "      <th></th>\n",
              "      <th>Name</th>\n",
              "      <th>Year</th>\n",
              "      <th>Rating</th>\n",
              "      <th>Watchers</th>\n",
              "      <th>Episodes</th>\n",
              "      <th>Ep. Duration</th>\n",
              "      <th>Aired On</th>\n",
              "      <th>Genres</th>\n",
              "      <th>Tags</th>\n",
              "      <th>Main Actors</th>\n",
              "    </tr>\n",
              "  </thead>\n",
              "  <tbody>\n",
              "    <tr>\n",
              "      <th>0</th>\n",
              "      <td>Goblin</td>\n",
              "      <td>2016</td>\n",
              "      <td>8.8</td>\n",
              "      <td>254985</td>\n",
              "      <td>16</td>\n",
              "      <td>01:22</td>\n",
              "      <td>Friday, Saturday</td>\n",
              "      <td>[Comedy, Romance, Fantasy, Melodrama]</td>\n",
              "      <td>[Older Man/Younger Woman, Interspecies Romance...</td>\n",
              "      <td>[Gong Yoo, Kim Go Eun, Lee Dong Wook, Yoo In N...</td>\n",
              "    </tr>\n",
              "    <tr>\n",
              "      <th>1</th>\n",
              "      <td>Strong Woman Do Bong Soon</td>\n",
              "      <td>2016</td>\n",
              "      <td>8.7</td>\n",
              "      <td>239773</td>\n",
              "      <td>16</td>\n",
              "      <td>01:07</td>\n",
              "      <td>Friday, Saturday</td>\n",
              "      <td>[Action, Comedy, Romance, Supernatural]</td>\n",
              "      <td>[Superhuman Strenght, Love Triangle, Nice Male...</td>\n",
              "      <td>[Park Bo Young, Park Hyung Sik, Kim Ji Soo]</td>\n",
              "    </tr>\n",
              "    <tr>\n",
              "      <th>2</th>\n",
              "      <td>It's Okay to Not Be Okay</td>\n",
              "      <td>2020</td>\n",
              "      <td>8.9</td>\n",
              "      <td>215957</td>\n",
              "      <td>16</td>\n",
              "      <td>01:15</td>\n",
              "      <td>Saturday, Sunday</td>\n",
              "      <td>[Psychological, Comedy, Romance, Drama]</td>\n",
              "      <td>[Independent Female Lead, Possessive Female Le...</td>\n",
              "      <td>[Kim Soo Hyun, Seo Yea Ji, Oh Jung Se]</td>\n",
              "    </tr>\n",
              "    <tr>\n",
              "      <th>3</th>\n",
              "      <td>Descendants of the Sun</td>\n",
              "      <td>2016</td>\n",
              "      <td>8.6</td>\n",
              "      <td>213187</td>\n",
              "      <td>16</td>\n",
              "      <td>01:00</td>\n",
              "      <td>Wednesday, Thursday</td>\n",
              "      <td>[Action, Comedy, Romance, Supernatural]</td>\n",
              "      <td>[Military, Bromance, Multiple Couples, Hardwor...</td>\n",
              "      <td>[Song Joong Ki, Song Hye Kyo, Jin Goo, Kim Ji ...</td>\n",
              "    </tr>\n",
              "    <tr>\n",
              "      <th>4</th>\n",
              "      <td>What's Wrong with Secretary Kim</td>\n",
              "      <td>2018</td>\n",
              "      <td>8.5</td>\n",
              "      <td>212766</td>\n",
              "      <td>16</td>\n",
              "      <td>01:09</td>\n",
              "      <td>Wednesday, Thursday</td>\n",
              "      <td>[Business, Comedy, Romance]</td>\n",
              "      <td>[Boss-Employee Relationship, Rich Male Lead, A...</td>\n",
              "      <td>[Park Min Young, Park Seo Joon]</td>\n",
              "    </tr>\n",
              "  </tbody>\n",
              "</table>\n",
              "</div>\n",
              "    <div class=\"colab-df-buttons\">\n",
              "\n",
              "  <div class=\"colab-df-container\">\n",
              "    <button class=\"colab-df-convert\" onclick=\"convertToInteractive('df-35192529-54cd-4c93-a004-39539719e7b1')\"\n",
              "            title=\"Convert this dataframe to an interactive table.\"\n",
              "            style=\"display:none;\">\n",
              "\n",
              "  <svg xmlns=\"http://www.w3.org/2000/svg\" height=\"24px\" viewBox=\"0 -960 960 960\">\n",
              "    <path d=\"M120-120v-720h720v720H120Zm60-500h600v-160H180v160Zm220 220h160v-160H400v160Zm0 220h160v-160H400v160ZM180-400h160v-160H180v160Zm440 0h160v-160H620v160ZM180-180h160v-160H180v160Zm440 0h160v-160H620v160Z\"/>\n",
              "  </svg>\n",
              "    </button>\n",
              "\n",
              "  <style>\n",
              "    .colab-df-container {\n",
              "      display:flex;\n",
              "      gap: 12px;\n",
              "    }\n",
              "\n",
              "    .colab-df-convert {\n",
              "      background-color: #E8F0FE;\n",
              "      border: none;\n",
              "      border-radius: 50%;\n",
              "      cursor: pointer;\n",
              "      display: none;\n",
              "      fill: #1967D2;\n",
              "      height: 32px;\n",
              "      padding: 0 0 0 0;\n",
              "      width: 32px;\n",
              "    }\n",
              "\n",
              "    .colab-df-convert:hover {\n",
              "      background-color: #E2EBFA;\n",
              "      box-shadow: 0px 1px 2px rgba(60, 64, 67, 0.3), 0px 1px 3px 1px rgba(60, 64, 67, 0.15);\n",
              "      fill: #174EA6;\n",
              "    }\n",
              "\n",
              "    .colab-df-buttons div {\n",
              "      margin-bottom: 4px;\n",
              "    }\n",
              "\n",
              "    [theme=dark] .colab-df-convert {\n",
              "      background-color: #3B4455;\n",
              "      fill: #D2E3FC;\n",
              "    }\n",
              "\n",
              "    [theme=dark] .colab-df-convert:hover {\n",
              "      background-color: #434B5C;\n",
              "      box-shadow: 0px 1px 3px 1px rgba(0, 0, 0, 0.15);\n",
              "      filter: drop-shadow(0px 1px 2px rgba(0, 0, 0, 0.3));\n",
              "      fill: #FFFFFF;\n",
              "    }\n",
              "  </style>\n",
              "\n",
              "    <script>\n",
              "      const buttonEl =\n",
              "        document.querySelector('#df-35192529-54cd-4c93-a004-39539719e7b1 button.colab-df-convert');\n",
              "      buttonEl.style.display =\n",
              "        google.colab.kernel.accessAllowed ? 'block' : 'none';\n",
              "\n",
              "      async function convertToInteractive(key) {\n",
              "        const element = document.querySelector('#df-35192529-54cd-4c93-a004-39539719e7b1');\n",
              "        const dataTable =\n",
              "          await google.colab.kernel.invokeFunction('convertToInteractive',\n",
              "                                                    [key], {});\n",
              "        if (!dataTable) return;\n",
              "\n",
              "        const docLinkHtml = 'Like what you see? Visit the ' +\n",
              "          '<a target=\"_blank\" href=https://colab.research.google.com/notebooks/data_table.ipynb>data table notebook</a>'\n",
              "          + ' to learn more about interactive tables.';\n",
              "        element.innerHTML = '';\n",
              "        dataTable['output_type'] = 'display_data';\n",
              "        await google.colab.output.renderOutput(dataTable, element);\n",
              "        const docLink = document.createElement('div');\n",
              "        docLink.innerHTML = docLinkHtml;\n",
              "        element.appendChild(docLink);\n",
              "      }\n",
              "    </script>\n",
              "  </div>\n",
              "\n",
              "\n",
              "<div id=\"df-545499f9-1488-4b44-ab9e-3ae2ec4964c9\">\n",
              "  <button class=\"colab-df-quickchart\" onclick=\"quickchart('df-545499f9-1488-4b44-ab9e-3ae2ec4964c9')\"\n",
              "            title=\"Suggest charts\"\n",
              "            style=\"display:none;\">\n",
              "\n",
              "<svg xmlns=\"http://www.w3.org/2000/svg\" height=\"24px\"viewBox=\"0 0 24 24\"\n",
              "     width=\"24px\">\n",
              "    <g>\n",
              "        <path d=\"M19 3H5c-1.1 0-2 .9-2 2v14c0 1.1.9 2 2 2h14c1.1 0 2-.9 2-2V5c0-1.1-.9-2-2-2zM9 17H7v-7h2v7zm4 0h-2V7h2v10zm4 0h-2v-4h2v4z\"/>\n",
              "    </g>\n",
              "</svg>\n",
              "  </button>\n",
              "\n",
              "<style>\n",
              "  .colab-df-quickchart {\n",
              "      --bg-color: #E8F0FE;\n",
              "      --fill-color: #1967D2;\n",
              "      --hover-bg-color: #E2EBFA;\n",
              "      --hover-fill-color: #174EA6;\n",
              "      --disabled-fill-color: #AAA;\n",
              "      --disabled-bg-color: #DDD;\n",
              "  }\n",
              "\n",
              "  [theme=dark] .colab-df-quickchart {\n",
              "      --bg-color: #3B4455;\n",
              "      --fill-color: #D2E3FC;\n",
              "      --hover-bg-color: #434B5C;\n",
              "      --hover-fill-color: #FFFFFF;\n",
              "      --disabled-bg-color: #3B4455;\n",
              "      --disabled-fill-color: #666;\n",
              "  }\n",
              "\n",
              "  .colab-df-quickchart {\n",
              "    background-color: var(--bg-color);\n",
              "    border: none;\n",
              "    border-radius: 50%;\n",
              "    cursor: pointer;\n",
              "    display: none;\n",
              "    fill: var(--fill-color);\n",
              "    height: 32px;\n",
              "    padding: 0;\n",
              "    width: 32px;\n",
              "  }\n",
              "\n",
              "  .colab-df-quickchart:hover {\n",
              "    background-color: var(--hover-bg-color);\n",
              "    box-shadow: 0 1px 2px rgba(60, 64, 67, 0.3), 0 1px 3px 1px rgba(60, 64, 67, 0.15);\n",
              "    fill: var(--button-hover-fill-color);\n",
              "  }\n",
              "\n",
              "  .colab-df-quickchart-complete:disabled,\n",
              "  .colab-df-quickchart-complete:disabled:hover {\n",
              "    background-color: var(--disabled-bg-color);\n",
              "    fill: var(--disabled-fill-color);\n",
              "    box-shadow: none;\n",
              "  }\n",
              "\n",
              "  .colab-df-spinner {\n",
              "    border: 2px solid var(--fill-color);\n",
              "    border-color: transparent;\n",
              "    border-bottom-color: var(--fill-color);\n",
              "    animation:\n",
              "      spin 1s steps(1) infinite;\n",
              "  }\n",
              "\n",
              "  @keyframes spin {\n",
              "    0% {\n",
              "      border-color: transparent;\n",
              "      border-bottom-color: var(--fill-color);\n",
              "      border-left-color: var(--fill-color);\n",
              "    }\n",
              "    20% {\n",
              "      border-color: transparent;\n",
              "      border-left-color: var(--fill-color);\n",
              "      border-top-color: var(--fill-color);\n",
              "    }\n",
              "    30% {\n",
              "      border-color: transparent;\n",
              "      border-left-color: var(--fill-color);\n",
              "      border-top-color: var(--fill-color);\n",
              "      border-right-color: var(--fill-color);\n",
              "    }\n",
              "    40% {\n",
              "      border-color: transparent;\n",
              "      border-right-color: var(--fill-color);\n",
              "      border-top-color: var(--fill-color);\n",
              "    }\n",
              "    60% {\n",
              "      border-color: transparent;\n",
              "      border-right-color: var(--fill-color);\n",
              "    }\n",
              "    80% {\n",
              "      border-color: transparent;\n",
              "      border-right-color: var(--fill-color);\n",
              "      border-bottom-color: var(--fill-color);\n",
              "    }\n",
              "    90% {\n",
              "      border-color: transparent;\n",
              "      border-bottom-color: var(--fill-color);\n",
              "    }\n",
              "  }\n",
              "</style>\n",
              "\n",
              "  <script>\n",
              "    async function quickchart(key) {\n",
              "      const quickchartButtonEl =\n",
              "        document.querySelector('#' + key + ' button');\n",
              "      quickchartButtonEl.disabled = true;  // To prevent multiple clicks.\n",
              "      quickchartButtonEl.classList.add('colab-df-spinner');\n",
              "      try {\n",
              "        const charts = await google.colab.kernel.invokeFunction(\n",
              "            'suggestCharts', [key], {});\n",
              "      } catch (error) {\n",
              "        console.error('Error during call to suggestCharts:', error);\n",
              "      }\n",
              "      quickchartButtonEl.classList.remove('colab-df-spinner');\n",
              "      quickchartButtonEl.classList.add('colab-df-quickchart-complete');\n",
              "    }\n",
              "    (() => {\n",
              "      let quickchartButtonEl =\n",
              "        document.querySelector('#df-545499f9-1488-4b44-ab9e-3ae2ec4964c9 button');\n",
              "      quickchartButtonEl.style.display =\n",
              "        google.colab.kernel.accessAllowed ? 'block' : 'none';\n",
              "    })();\n",
              "  </script>\n",
              "</div>\n",
              "\n",
              "    </div>\n",
              "  </div>\n"
            ],
            "application/vnd.google.colaboratory.intrinsic+json": {
              "type": "dataframe",
              "variable_name": "drama",
              "summary": "{\n  \"name\": \"drama\",\n  \"rows\": 100,\n  \"fields\": [\n    {\n      \"column\": \"Name\",\n      \"properties\": {\n        \"dtype\": \"string\",\n        \"num_unique_values\": 100,\n        \"samples\": [\n          \"Queen of Tears\",\n          \"Cheese in the Trap\",\n          \"Twinkling Watermelon\"\n        ],\n        \"semantic_type\": \"\",\n        \"description\": \"\"\n      }\n    },\n    {\n      \"column\": \"Year\",\n      \"properties\": {\n        \"dtype\": \"number\",\n        \"std\": 3,\n        \"min\": 2007,\n        \"max\": 2024,\n        \"num_unique_values\": 16,\n        \"samples\": [\n          2016,\n          2020,\n          2017\n        ],\n        \"semantic_type\": \"\",\n        \"description\": \"\"\n      }\n    },\n    {\n      \"column\": \"Rating\",\n      \"properties\": {\n        \"dtype\": \"number\",\n        \"std\": 0.4551123737356223,\n        \"min\": 7.1,\n        \"max\": 9.2,\n        \"num_unique_values\": 20,\n        \"samples\": [\n          8.8,\n          9.2,\n          8.0\n        ],\n        \"semantic_type\": \"\",\n        \"description\": \"\"\n      }\n    },\n    {\n      \"column\": \"Watchers\",\n      \"properties\": {\n        \"dtype\": \"number\",\n        \"std\": 38452,\n        \"min\": 82611,\n        \"max\": 254985,\n        \"num_unique_values\": 100,\n        \"samples\": [\n          92911,\n          107382,\n          98619\n        ],\n        \"semantic_type\": \"\",\n        \"description\": \"\"\n      }\n    },\n    {\n      \"column\": \"Episodes\",\n      \"properties\": {\n        \"dtype\": \"number\",\n        \"std\": 5,\n        \"min\": 8,\n        \"max\": 40,\n        \"num_unique_values\": 13,\n        \"samples\": [\n          18,\n          10,\n          16\n        ],\n        \"semantic_type\": \"\",\n        \"description\": \"\"\n      }\n    },\n    {\n      \"column\": \"Ep. Duration\",\n      \"properties\": {\n        \"dtype\": \"object\",\n        \"num_unique_values\": 33,\n        \"samples\": [\n          \"0:55\",\n          \"0:30\",\n          \"1:04\"\n        ],\n        \"semantic_type\": \"\",\n        \"description\": \"\"\n      }\n    },\n    {\n      \"column\": \"Aired On\",\n      \"properties\": {\n        \"dtype\": \"category\",\n        \"num_unique_values\": 9,\n        \"samples\": [\n          \"Saturday\",\n          \"Saturday, Sunday\",\n          \"Friday\"\n        ],\n        \"semantic_type\": \"\",\n        \"description\": \"\"\n      }\n    },\n    {\n      \"column\": \"Genres\",\n      \"properties\": {\n        \"dtype\": \"object\",\n        \"semantic_type\": \"\",\n        \"description\": \"\"\n      }\n    },\n    {\n      \"column\": \"Tags\",\n      \"properties\": {\n        \"dtype\": \"object\",\n        \"semantic_type\": \"\",\n        \"description\": \"\"\n      }\n    },\n    {\n      \"column\": \"Main Actors\",\n      \"properties\": {\n        \"dtype\": \"object\",\n        \"semantic_type\": \"\",\n        \"description\": \"\"\n      }\n    }\n  ]\n}"
            }
          },
          "metadata": {},
          "execution_count": 147
        }
      ]
    },
    {
      "cell_type": "code",
      "source": [
        "drama['Aired On'] = drama['Aired On'].replace('Sunday, Saturday', 'Saturday, Sunday')"
      ],
      "metadata": {
        "id": "IjnSrCDXznJY"
      },
      "execution_count": 148,
      "outputs": []
    },
    {
      "cell_type": "markdown",
      "source": [
        "### **2.3. Transformando variáveis quantitativas em qualitativas**"
      ],
      "metadata": {
        "id": "uwZJbpauW09E"
      }
    },
    {
      "cell_type": "code",
      "source": [
        "print(drama['Watchers'].min())\n",
        "print(drama['Watchers'].max())"
      ],
      "metadata": {
        "colab": {
          "base_uri": "https://localhost:8080/"
        },
        "id": "UqshY59dW8Sl",
        "outputId": "a346bd54-952f-4f2b-ee05-dbd6b4370545"
      },
      "execution_count": 149,
      "outputs": [
        {
          "output_type": "stream",
          "name": "stdout",
          "text": [
            "82611\n",
            "254985\n"
          ]
        }
      ]
    },
    {
      "cell_type": "markdown",
      "source": [
        "Agora com os valores de mínimo e máximo poderemos construir os intervalos para a variável Watchers. Para a quantidade de intervalos é usado √n, onde n é o número de valores que existem. Como são 100, o número de intervalos será 10. Para encontrar a amplitude desse intervalo, usamos: (max - min)/10 = (254985 - 82611)/10 = 17237,4. Como não existem valores quebrados para essa variável, irei arredondar para o próximo número inteiro na criação dos intervalos.\n",
        "\n",
        "Substituindo os valores pelo intervalo na tabela:"
      ],
      "metadata": {
        "id": "iH7mKqa7W9Pv"
      }
    },
    {
      "cell_type": "code",
      "source": [
        "bins = [82611, 99849, 117086, 134324, 151561, 168798, 186036, 203273, 220511, 237748, 254985]\n",
        "labels = ['82.611 a 99.849', '99.850 a 117.086', '117.087 a 134.324', '134.325 a 151.561', '151.562 a 168.798', '168.799 a 186.036', '186.037 a 203.273', '203.274 a 220.511', '220.512 a 237.748', '237.749 a 254.985']\n",
        "drama['Watchers'] = pd.cut(drama['Watchers'], bins = bins, labels = labels, include_lowest = True)"
      ],
      "metadata": {
        "id": "V-t9NHTAagG_"
      },
      "execution_count": 150,
      "outputs": []
    },
    {
      "cell_type": "markdown",
      "source": [
        "Para a variável Ep. Duration, por se tratar do tempo em horas, é mais conveniente para a interpretação que seja dividido em intervalos comuns de tempo. Nesse caso, serão utilizados intervalos com diferença de 10 minutos cada. Por fim, para que isso seja possível, é preciso primeiro converter de horas para minutos, sendo capaz de realizar operações com os números inteiros."
      ],
      "metadata": {
        "id": "XpSpRVq7asG_"
      }
    },
    {
      "cell_type": "code",
      "source": [
        "def conversor(horario):\n",
        "    h, m = map(int, horario.split(\":\"))\n",
        "    return h * 60 + m\n",
        "\n",
        "drama['Ep. Duration'] = drama['Ep. Duration'].apply(conversor)"
      ],
      "metadata": {
        "id": "AUyfF-ocasxw"
      },
      "execution_count": 151,
      "outputs": []
    },
    {
      "cell_type": "code",
      "source": [
        "print(drama['Ep. Duration'].min())\n",
        "print(drama['Ep. Duration'].max())"
      ],
      "metadata": {
        "colab": {
          "base_uri": "https://localhost:8080/"
        },
        "id": "nbOSSAmUavpS",
        "outputId": "697baab1-0d97-403c-954e-bb6651002125"
      },
      "execution_count": 152,
      "outputs": [
        {
          "output_type": "stream",
          "name": "stdout",
          "text": [
            "30\n",
            "95\n"
          ]
        }
      ]
    },
    {
      "cell_type": "code",
      "source": [
        "bins = [30, 40, 50, 60, 70, 80, 95]\n",
        "labels = ['00:30 a 00:40', '00:41 a 00:50', '00:51 a 00:60', '00:61 a 00:70', '00:71 a 00:80', '00:81 a 00:95']\n",
        "drama['Ep. Duration'] = pd.cut(drama['Ep. Duration'], bins = bins, labels = labels, include_lowest = True)"
      ],
      "metadata": {
        "id": "Ll8SLJ7vaxqR"
      },
      "execution_count": 153,
      "outputs": []
    },
    {
      "cell_type": "markdown",
      "source": [
        "Por último, a variável Rating será convertida em intervalos com diferença de 0.5 na avaliação, para facilitar a interpretação."
      ],
      "metadata": {
        "id": "MeVRzoLah6l-"
      }
    },
    {
      "cell_type": "code",
      "source": [
        "print(drama['Rating'].min())\n",
        "print(drama['Rating'].max())"
      ],
      "metadata": {
        "colab": {
          "base_uri": "https://localhost:8080/"
        },
        "id": "kbRcFmcOh7l4",
        "outputId": "7f7a7009-4f22-4d0a-f5cd-cf6a9390f73b"
      },
      "execution_count": 154,
      "outputs": [
        {
          "output_type": "stream",
          "name": "stdout",
          "text": [
            "7.1\n",
            "9.2\n"
          ]
        }
      ]
    },
    {
      "cell_type": "code",
      "source": [
        "bins = [7.0, 7.5, 8.0, 8.5, 9.0, 10]\n",
        "labels = ['7 a 7.5', '7.6 a 8', '8.1 a 8.5', '8.6 a 9', '9.1 a 10']\n",
        "drama['Rating'] = pd.cut(drama['Rating'], bins = bins, labels = labels, include_lowest = True)"
      ],
      "metadata": {
        "id": "xDIdRY-qh9oQ"
      },
      "execution_count": 155,
      "outputs": []
    },
    {
      "cell_type": "code",
      "source": [
        "drama.head()"
      ],
      "metadata": {
        "colab": {
          "base_uri": "https://localhost:8080/",
          "height": 310
        },
        "id": "I1vf7U7ciRTH",
        "outputId": "36010fd4-7b49-4660-84ce-0c6a1f91542e"
      },
      "execution_count": 156,
      "outputs": [
        {
          "output_type": "execute_result",
          "data": {
            "text/plain": [
              "                              Name  Year     Rating           Watchers  \\\n",
              "0                           Goblin  2016    8.6 a 9  237.749 a 254.985   \n",
              "1        Strong Woman Do Bong Soon  2016    8.6 a 9  237.749 a 254.985   \n",
              "2         It's Okay to Not Be Okay  2020    8.6 a 9  203.274 a 220.511   \n",
              "3           Descendants of the Sun  2016    8.6 a 9  203.274 a 220.511   \n",
              "4  What's Wrong with Secretary Kim  2018  8.1 a 8.5  203.274 a 220.511   \n",
              "\n",
              "   Episodes   Ep. Duration             Aired On  \\\n",
              "0        16  00:81 a 00:95     Friday, Saturday   \n",
              "1        16  00:61 a 00:70     Friday, Saturday   \n",
              "2        16  00:71 a 00:80     Saturday, Sunday   \n",
              "3        16  00:51 a 00:60  Wednesday, Thursday   \n",
              "4        16  00:61 a 00:70  Wednesday, Thursday   \n",
              "\n",
              "                                    Genres  \\\n",
              "0    [Comedy, Romance, Fantasy, Melodrama]   \n",
              "1  [Action, Comedy, Romance, Supernatural]   \n",
              "2  [Psychological, Comedy, Romance, Drama]   \n",
              "3  [Action, Comedy, Romance, Supernatural]   \n",
              "4              [Business, Comedy, Romance]   \n",
              "\n",
              "                                                Tags  \\\n",
              "0  [Older Man/Younger Woman, Interspecies Romance...   \n",
              "1  [Superhuman Strenght, Love Triangle, Nice Male...   \n",
              "2  [Independent Female Lead, Possessive Female Le...   \n",
              "3  [Military, Bromance, Multiple Couples, Hardwor...   \n",
              "4  [Boss-Employee Relationship, Rich Male Lead, A...   \n",
              "\n",
              "                                         Main Actors  \n",
              "0  [Gong Yoo, Kim Go Eun, Lee Dong Wook, Yoo In N...  \n",
              "1        [Park Bo Young, Park Hyung Sik, Kim Ji Soo]  \n",
              "2             [Kim Soo Hyun, Seo Yea Ji, Oh Jung Se]  \n",
              "3  [Song Joong Ki, Song Hye Kyo, Jin Goo, Kim Ji ...  \n",
              "4                    [Park Min Young, Park Seo Joon]  "
            ],
            "text/html": [
              "\n",
              "  <div id=\"df-7f44016e-35d5-452a-9ca1-472fca14844c\" class=\"colab-df-container\">\n",
              "    <div>\n",
              "<style scoped>\n",
              "    .dataframe tbody tr th:only-of-type {\n",
              "        vertical-align: middle;\n",
              "    }\n",
              "\n",
              "    .dataframe tbody tr th {\n",
              "        vertical-align: top;\n",
              "    }\n",
              "\n",
              "    .dataframe thead th {\n",
              "        text-align: right;\n",
              "    }\n",
              "</style>\n",
              "<table border=\"1\" class=\"dataframe\">\n",
              "  <thead>\n",
              "    <tr style=\"text-align: right;\">\n",
              "      <th></th>\n",
              "      <th>Name</th>\n",
              "      <th>Year</th>\n",
              "      <th>Rating</th>\n",
              "      <th>Watchers</th>\n",
              "      <th>Episodes</th>\n",
              "      <th>Ep. Duration</th>\n",
              "      <th>Aired On</th>\n",
              "      <th>Genres</th>\n",
              "      <th>Tags</th>\n",
              "      <th>Main Actors</th>\n",
              "    </tr>\n",
              "  </thead>\n",
              "  <tbody>\n",
              "    <tr>\n",
              "      <th>0</th>\n",
              "      <td>Goblin</td>\n",
              "      <td>2016</td>\n",
              "      <td>8.6 a 9</td>\n",
              "      <td>237.749 a 254.985</td>\n",
              "      <td>16</td>\n",
              "      <td>00:81 a 00:95</td>\n",
              "      <td>Friday, Saturday</td>\n",
              "      <td>[Comedy, Romance, Fantasy, Melodrama]</td>\n",
              "      <td>[Older Man/Younger Woman, Interspecies Romance...</td>\n",
              "      <td>[Gong Yoo, Kim Go Eun, Lee Dong Wook, Yoo In N...</td>\n",
              "    </tr>\n",
              "    <tr>\n",
              "      <th>1</th>\n",
              "      <td>Strong Woman Do Bong Soon</td>\n",
              "      <td>2016</td>\n",
              "      <td>8.6 a 9</td>\n",
              "      <td>237.749 a 254.985</td>\n",
              "      <td>16</td>\n",
              "      <td>00:61 a 00:70</td>\n",
              "      <td>Friday, Saturday</td>\n",
              "      <td>[Action, Comedy, Romance, Supernatural]</td>\n",
              "      <td>[Superhuman Strenght, Love Triangle, Nice Male...</td>\n",
              "      <td>[Park Bo Young, Park Hyung Sik, Kim Ji Soo]</td>\n",
              "    </tr>\n",
              "    <tr>\n",
              "      <th>2</th>\n",
              "      <td>It's Okay to Not Be Okay</td>\n",
              "      <td>2020</td>\n",
              "      <td>8.6 a 9</td>\n",
              "      <td>203.274 a 220.511</td>\n",
              "      <td>16</td>\n",
              "      <td>00:71 a 00:80</td>\n",
              "      <td>Saturday, Sunday</td>\n",
              "      <td>[Psychological, Comedy, Romance, Drama]</td>\n",
              "      <td>[Independent Female Lead, Possessive Female Le...</td>\n",
              "      <td>[Kim Soo Hyun, Seo Yea Ji, Oh Jung Se]</td>\n",
              "    </tr>\n",
              "    <tr>\n",
              "      <th>3</th>\n",
              "      <td>Descendants of the Sun</td>\n",
              "      <td>2016</td>\n",
              "      <td>8.6 a 9</td>\n",
              "      <td>203.274 a 220.511</td>\n",
              "      <td>16</td>\n",
              "      <td>00:51 a 00:60</td>\n",
              "      <td>Wednesday, Thursday</td>\n",
              "      <td>[Action, Comedy, Romance, Supernatural]</td>\n",
              "      <td>[Military, Bromance, Multiple Couples, Hardwor...</td>\n",
              "      <td>[Song Joong Ki, Song Hye Kyo, Jin Goo, Kim Ji ...</td>\n",
              "    </tr>\n",
              "    <tr>\n",
              "      <th>4</th>\n",
              "      <td>What's Wrong with Secretary Kim</td>\n",
              "      <td>2018</td>\n",
              "      <td>8.1 a 8.5</td>\n",
              "      <td>203.274 a 220.511</td>\n",
              "      <td>16</td>\n",
              "      <td>00:61 a 00:70</td>\n",
              "      <td>Wednesday, Thursday</td>\n",
              "      <td>[Business, Comedy, Romance]</td>\n",
              "      <td>[Boss-Employee Relationship, Rich Male Lead, A...</td>\n",
              "      <td>[Park Min Young, Park Seo Joon]</td>\n",
              "    </tr>\n",
              "  </tbody>\n",
              "</table>\n",
              "</div>\n",
              "    <div class=\"colab-df-buttons\">\n",
              "\n",
              "  <div class=\"colab-df-container\">\n",
              "    <button class=\"colab-df-convert\" onclick=\"convertToInteractive('df-7f44016e-35d5-452a-9ca1-472fca14844c')\"\n",
              "            title=\"Convert this dataframe to an interactive table.\"\n",
              "            style=\"display:none;\">\n",
              "\n",
              "  <svg xmlns=\"http://www.w3.org/2000/svg\" height=\"24px\" viewBox=\"0 -960 960 960\">\n",
              "    <path d=\"M120-120v-720h720v720H120Zm60-500h600v-160H180v160Zm220 220h160v-160H400v160Zm0 220h160v-160H400v160ZM180-400h160v-160H180v160Zm440 0h160v-160H620v160ZM180-180h160v-160H180v160Zm440 0h160v-160H620v160Z\"/>\n",
              "  </svg>\n",
              "    </button>\n",
              "\n",
              "  <style>\n",
              "    .colab-df-container {\n",
              "      display:flex;\n",
              "      gap: 12px;\n",
              "    }\n",
              "\n",
              "    .colab-df-convert {\n",
              "      background-color: #E8F0FE;\n",
              "      border: none;\n",
              "      border-radius: 50%;\n",
              "      cursor: pointer;\n",
              "      display: none;\n",
              "      fill: #1967D2;\n",
              "      height: 32px;\n",
              "      padding: 0 0 0 0;\n",
              "      width: 32px;\n",
              "    }\n",
              "\n",
              "    .colab-df-convert:hover {\n",
              "      background-color: #E2EBFA;\n",
              "      box-shadow: 0px 1px 2px rgba(60, 64, 67, 0.3), 0px 1px 3px 1px rgba(60, 64, 67, 0.15);\n",
              "      fill: #174EA6;\n",
              "    }\n",
              "\n",
              "    .colab-df-buttons div {\n",
              "      margin-bottom: 4px;\n",
              "    }\n",
              "\n",
              "    [theme=dark] .colab-df-convert {\n",
              "      background-color: #3B4455;\n",
              "      fill: #D2E3FC;\n",
              "    }\n",
              "\n",
              "    [theme=dark] .colab-df-convert:hover {\n",
              "      background-color: #434B5C;\n",
              "      box-shadow: 0px 1px 3px 1px rgba(0, 0, 0, 0.15);\n",
              "      filter: drop-shadow(0px 1px 2px rgba(0, 0, 0, 0.3));\n",
              "      fill: #FFFFFF;\n",
              "    }\n",
              "  </style>\n",
              "\n",
              "    <script>\n",
              "      const buttonEl =\n",
              "        document.querySelector('#df-7f44016e-35d5-452a-9ca1-472fca14844c button.colab-df-convert');\n",
              "      buttonEl.style.display =\n",
              "        google.colab.kernel.accessAllowed ? 'block' : 'none';\n",
              "\n",
              "      async function convertToInteractive(key) {\n",
              "        const element = document.querySelector('#df-7f44016e-35d5-452a-9ca1-472fca14844c');\n",
              "        const dataTable =\n",
              "          await google.colab.kernel.invokeFunction('convertToInteractive',\n",
              "                                                    [key], {});\n",
              "        if (!dataTable) return;\n",
              "\n",
              "        const docLinkHtml = 'Like what you see? Visit the ' +\n",
              "          '<a target=\"_blank\" href=https://colab.research.google.com/notebooks/data_table.ipynb>data table notebook</a>'\n",
              "          + ' to learn more about interactive tables.';\n",
              "        element.innerHTML = '';\n",
              "        dataTable['output_type'] = 'display_data';\n",
              "        await google.colab.output.renderOutput(dataTable, element);\n",
              "        const docLink = document.createElement('div');\n",
              "        docLink.innerHTML = docLinkHtml;\n",
              "        element.appendChild(docLink);\n",
              "      }\n",
              "    </script>\n",
              "  </div>\n",
              "\n",
              "\n",
              "<div id=\"df-791baa1c-5466-42d6-81a5-fa32af329aab\">\n",
              "  <button class=\"colab-df-quickchart\" onclick=\"quickchart('df-791baa1c-5466-42d6-81a5-fa32af329aab')\"\n",
              "            title=\"Suggest charts\"\n",
              "            style=\"display:none;\">\n",
              "\n",
              "<svg xmlns=\"http://www.w3.org/2000/svg\" height=\"24px\"viewBox=\"0 0 24 24\"\n",
              "     width=\"24px\">\n",
              "    <g>\n",
              "        <path d=\"M19 3H5c-1.1 0-2 .9-2 2v14c0 1.1.9 2 2 2h14c1.1 0 2-.9 2-2V5c0-1.1-.9-2-2-2zM9 17H7v-7h2v7zm4 0h-2V7h2v10zm4 0h-2v-4h2v4z\"/>\n",
              "    </g>\n",
              "</svg>\n",
              "  </button>\n",
              "\n",
              "<style>\n",
              "  .colab-df-quickchart {\n",
              "      --bg-color: #E8F0FE;\n",
              "      --fill-color: #1967D2;\n",
              "      --hover-bg-color: #E2EBFA;\n",
              "      --hover-fill-color: #174EA6;\n",
              "      --disabled-fill-color: #AAA;\n",
              "      --disabled-bg-color: #DDD;\n",
              "  }\n",
              "\n",
              "  [theme=dark] .colab-df-quickchart {\n",
              "      --bg-color: #3B4455;\n",
              "      --fill-color: #D2E3FC;\n",
              "      --hover-bg-color: #434B5C;\n",
              "      --hover-fill-color: #FFFFFF;\n",
              "      --disabled-bg-color: #3B4455;\n",
              "      --disabled-fill-color: #666;\n",
              "  }\n",
              "\n",
              "  .colab-df-quickchart {\n",
              "    background-color: var(--bg-color);\n",
              "    border: none;\n",
              "    border-radius: 50%;\n",
              "    cursor: pointer;\n",
              "    display: none;\n",
              "    fill: var(--fill-color);\n",
              "    height: 32px;\n",
              "    padding: 0;\n",
              "    width: 32px;\n",
              "  }\n",
              "\n",
              "  .colab-df-quickchart:hover {\n",
              "    background-color: var(--hover-bg-color);\n",
              "    box-shadow: 0 1px 2px rgba(60, 64, 67, 0.3), 0 1px 3px 1px rgba(60, 64, 67, 0.15);\n",
              "    fill: var(--button-hover-fill-color);\n",
              "  }\n",
              "\n",
              "  .colab-df-quickchart-complete:disabled,\n",
              "  .colab-df-quickchart-complete:disabled:hover {\n",
              "    background-color: var(--disabled-bg-color);\n",
              "    fill: var(--disabled-fill-color);\n",
              "    box-shadow: none;\n",
              "  }\n",
              "\n",
              "  .colab-df-spinner {\n",
              "    border: 2px solid var(--fill-color);\n",
              "    border-color: transparent;\n",
              "    border-bottom-color: var(--fill-color);\n",
              "    animation:\n",
              "      spin 1s steps(1) infinite;\n",
              "  }\n",
              "\n",
              "  @keyframes spin {\n",
              "    0% {\n",
              "      border-color: transparent;\n",
              "      border-bottom-color: var(--fill-color);\n",
              "      border-left-color: var(--fill-color);\n",
              "    }\n",
              "    20% {\n",
              "      border-color: transparent;\n",
              "      border-left-color: var(--fill-color);\n",
              "      border-top-color: var(--fill-color);\n",
              "    }\n",
              "    30% {\n",
              "      border-color: transparent;\n",
              "      border-left-color: var(--fill-color);\n",
              "      border-top-color: var(--fill-color);\n",
              "      border-right-color: var(--fill-color);\n",
              "    }\n",
              "    40% {\n",
              "      border-color: transparent;\n",
              "      border-right-color: var(--fill-color);\n",
              "      border-top-color: var(--fill-color);\n",
              "    }\n",
              "    60% {\n",
              "      border-color: transparent;\n",
              "      border-right-color: var(--fill-color);\n",
              "    }\n",
              "    80% {\n",
              "      border-color: transparent;\n",
              "      border-right-color: var(--fill-color);\n",
              "      border-bottom-color: var(--fill-color);\n",
              "    }\n",
              "    90% {\n",
              "      border-color: transparent;\n",
              "      border-bottom-color: var(--fill-color);\n",
              "    }\n",
              "  }\n",
              "</style>\n",
              "\n",
              "  <script>\n",
              "    async function quickchart(key) {\n",
              "      const quickchartButtonEl =\n",
              "        document.querySelector('#' + key + ' button');\n",
              "      quickchartButtonEl.disabled = true;  // To prevent multiple clicks.\n",
              "      quickchartButtonEl.classList.add('colab-df-spinner');\n",
              "      try {\n",
              "        const charts = await google.colab.kernel.invokeFunction(\n",
              "            'suggestCharts', [key], {});\n",
              "      } catch (error) {\n",
              "        console.error('Error during call to suggestCharts:', error);\n",
              "      }\n",
              "      quickchartButtonEl.classList.remove('colab-df-spinner');\n",
              "      quickchartButtonEl.classList.add('colab-df-quickchart-complete');\n",
              "    }\n",
              "    (() => {\n",
              "      let quickchartButtonEl =\n",
              "        document.querySelector('#df-791baa1c-5466-42d6-81a5-fa32af329aab button');\n",
              "      quickchartButtonEl.style.display =\n",
              "        google.colab.kernel.accessAllowed ? 'block' : 'none';\n",
              "    })();\n",
              "  </script>\n",
              "</div>\n",
              "\n",
              "    </div>\n",
              "  </div>\n"
            ],
            "application/vnd.google.colaboratory.intrinsic+json": {
              "type": "dataframe",
              "variable_name": "drama",
              "summary": "{\n  \"name\": \"drama\",\n  \"rows\": 100,\n  \"fields\": [\n    {\n      \"column\": \"Name\",\n      \"properties\": {\n        \"dtype\": \"string\",\n        \"num_unique_values\": 100,\n        \"samples\": [\n          \"Queen of Tears\",\n          \"Cheese in the Trap\",\n          \"Twinkling Watermelon\"\n        ],\n        \"semantic_type\": \"\",\n        \"description\": \"\"\n      }\n    },\n    {\n      \"column\": \"Year\",\n      \"properties\": {\n        \"dtype\": \"number\",\n        \"std\": 3,\n        \"min\": 2007,\n        \"max\": 2024,\n        \"num_unique_values\": 16,\n        \"samples\": [\n          2016,\n          2020,\n          2017\n        ],\n        \"semantic_type\": \"\",\n        \"description\": \"\"\n      }\n    },\n    {\n      \"column\": \"Rating\",\n      \"properties\": {\n        \"dtype\": \"category\",\n        \"num_unique_values\": 5,\n        \"samples\": [\n          \"8.1 a 8.5\",\n          \"9.1 a 10\",\n          \"7 a 7.5\"\n        ],\n        \"semantic_type\": \"\",\n        \"description\": \"\"\n      }\n    },\n    {\n      \"column\": \"Watchers\",\n      \"properties\": {\n        \"dtype\": \"category\",\n        \"num_unique_values\": 9,\n        \"samples\": [\n          \"99.850 a 117.086\",\n          \"203.274 a 220.511\",\n          \"134.325 a 151.561\"\n        ],\n        \"semantic_type\": \"\",\n        \"description\": \"\"\n      }\n    },\n    {\n      \"column\": \"Episodes\",\n      \"properties\": {\n        \"dtype\": \"number\",\n        \"std\": 5,\n        \"min\": 8,\n        \"max\": 40,\n        \"num_unique_values\": 13,\n        \"samples\": [\n          18,\n          10,\n          16\n        ],\n        \"semantic_type\": \"\",\n        \"description\": \"\"\n      }\n    },\n    {\n      \"column\": \"Ep. Duration\",\n      \"properties\": {\n        \"dtype\": \"category\",\n        \"num_unique_values\": 6,\n        \"samples\": [\n          \"00:81 a 00:95\",\n          \"00:61 a 00:70\",\n          \"00:41 a 00:50\"\n        ],\n        \"semantic_type\": \"\",\n        \"description\": \"\"\n      }\n    },\n    {\n      \"column\": \"Aired On\",\n      \"properties\": {\n        \"dtype\": \"category\",\n        \"num_unique_values\": 8,\n        \"samples\": [\n          \"Saturday, Sunday\",\n          \"Thursday\",\n          \"Friday, Saturday\"\n        ],\n        \"semantic_type\": \"\",\n        \"description\": \"\"\n      }\n    },\n    {\n      \"column\": \"Genres\",\n      \"properties\": {\n        \"dtype\": \"object\",\n        \"semantic_type\": \"\",\n        \"description\": \"\"\n      }\n    },\n    {\n      \"column\": \"Tags\",\n      \"properties\": {\n        \"dtype\": \"object\",\n        \"semantic_type\": \"\",\n        \"description\": \"\"\n      }\n    },\n    {\n      \"column\": \"Main Actors\",\n      \"properties\": {\n        \"dtype\": \"object\",\n        \"semantic_type\": \"\",\n        \"description\": \"\"\n      }\n    }\n  ]\n}"
            }
          },
          "metadata": {},
          "execution_count": 156
        }
      ]
    },
    {
      "cell_type": "markdown",
      "source": [
        "Agora as variáveis quantitativas contínuas foram todas transformadas em intervalos, variáveis qualitativas ordinais."
      ],
      "metadata": {
        "id": "4rg7UzgUjcDQ"
      }
    },
    {
      "cell_type": "markdown",
      "source": [
        "### **2.4. One-Hot Encoding**"
      ],
      "metadata": {
        "id": "HT4-hxntjqw1"
      }
    },
    {
      "cell_type": "markdown",
      "source": [
        "Considerando a quantidade de atores e como suas aparições são baixas considerando o dataset, essa coluna será removida pois não é tão relevante para a estimação."
      ],
      "metadata": {
        "id": "nEhWVJ_c4SRq"
      }
    },
    {
      "cell_type": "code",
      "source": [
        "actors = drama['Main Actors'].explode()\n",
        "actors.value_counts()"
      ],
      "metadata": {
        "colab": {
          "base_uri": "https://localhost:8080/",
          "height": 490
        },
        "id": "WixhKnm-44hC",
        "outputId": "a886b354-ae49-486d-f7d1-e3133cc2f694"
      },
      "execution_count": 157,
      "outputs": [
        {
          "output_type": "execute_result",
          "data": {
            "text/plain": [
              "Main Actors\n",
              "Lee Jong Suk      6\n",
              "Park Seo Joon     6\n",
              "Nam Joo Hyuk      5\n",
              "Bae Suzy          5\n",
              "Lee Min Ho        5\n",
              "                 ..\n",
              "Ham Eun Jung      1\n",
              "Jang Woo Young    1\n",
              "Kim Ha Neul       1\n",
              "Jin Se Yeon       1\n",
              "Kang So Ra        1\n",
              "Name: count, Length: 254, dtype: int64"
            ],
            "text/html": [
              "<div>\n",
              "<style scoped>\n",
              "    .dataframe tbody tr th:only-of-type {\n",
              "        vertical-align: middle;\n",
              "    }\n",
              "\n",
              "    .dataframe tbody tr th {\n",
              "        vertical-align: top;\n",
              "    }\n",
              "\n",
              "    .dataframe thead th {\n",
              "        text-align: right;\n",
              "    }\n",
              "</style>\n",
              "<table border=\"1\" class=\"dataframe\">\n",
              "  <thead>\n",
              "    <tr style=\"text-align: right;\">\n",
              "      <th></th>\n",
              "      <th>count</th>\n",
              "    </tr>\n",
              "    <tr>\n",
              "      <th>Main Actors</th>\n",
              "      <th></th>\n",
              "    </tr>\n",
              "  </thead>\n",
              "  <tbody>\n",
              "    <tr>\n",
              "      <th>Lee Jong Suk</th>\n",
              "      <td>6</td>\n",
              "    </tr>\n",
              "    <tr>\n",
              "      <th>Park Seo Joon</th>\n",
              "      <td>6</td>\n",
              "    </tr>\n",
              "    <tr>\n",
              "      <th>Nam Joo Hyuk</th>\n",
              "      <td>5</td>\n",
              "    </tr>\n",
              "    <tr>\n",
              "      <th>Bae Suzy</th>\n",
              "      <td>5</td>\n",
              "    </tr>\n",
              "    <tr>\n",
              "      <th>Lee Min Ho</th>\n",
              "      <td>5</td>\n",
              "    </tr>\n",
              "    <tr>\n",
              "      <th>...</th>\n",
              "      <td>...</td>\n",
              "    </tr>\n",
              "    <tr>\n",
              "      <th>Ham Eun Jung</th>\n",
              "      <td>1</td>\n",
              "    </tr>\n",
              "    <tr>\n",
              "      <th>Jang Woo Young</th>\n",
              "      <td>1</td>\n",
              "    </tr>\n",
              "    <tr>\n",
              "      <th>Kim Ha Neul</th>\n",
              "      <td>1</td>\n",
              "    </tr>\n",
              "    <tr>\n",
              "      <th>Jin Se Yeon</th>\n",
              "      <td>1</td>\n",
              "    </tr>\n",
              "    <tr>\n",
              "      <th>Kang So Ra</th>\n",
              "      <td>1</td>\n",
              "    </tr>\n",
              "  </tbody>\n",
              "</table>\n",
              "<p>254 rows × 1 columns</p>\n",
              "</div><br><label><b>dtype:</b> int64</label>"
            ]
          },
          "metadata": {},
          "execution_count": 157
        }
      ]
    },
    {
      "cell_type": "code",
      "source": [
        "drama.drop(columns=['Main Actors'], inplace=True)"
      ],
      "metadata": {
        "id": "B1Q_XKBI3MSM"
      },
      "execution_count": 158,
      "outputs": []
    },
    {
      "cell_type": "markdown",
      "source": [
        "Devido a grande quantidade de valores para **Genres**, será escolhido apenas os 15 mais frequentes para o One-Hot Encoding."
      ],
      "metadata": {
        "id": "Gr9bCgqf5Bd7"
      }
    },
    {
      "cell_type": "code",
      "source": [
        "genres = drama['Genres'].explode()\n",
        "genres_top15 = genres.value_counts().head(15).index.tolist()\n",
        "print(genres_top15)"
      ],
      "metadata": {
        "colab": {
          "base_uri": "https://localhost:8080/"
        },
        "id": "9cWp4NorxATn",
        "outputId": "f5b0e39d-740c-4c36-a3b0-188fa720970b"
      },
      "execution_count": 159,
      "outputs": [
        {
          "output_type": "stream",
          "name": "stdout",
          "text": [
            "['Romance', 'Comedy', 'Drama', 'Fantasy', 'Thriller', 'Life', 'Action', 'Melodrama', 'Mystery', 'Youth', 'Supernatural', 'Psychological', 'Horror', 'Business', 'Crime']\n"
          ]
        }
      ]
    },
    {
      "cell_type": "code",
      "source": [
        "for genre in genres_top15:\n",
        "    drama[f'{genre}'] = drama['Genres'].apply(lambda x: int(genre in x))\n",
        "\n",
        "drama.drop(columns=['Genres'], inplace=True)"
      ],
      "metadata": {
        "id": "f-gecqYr1SAT"
      },
      "execution_count": 160,
      "outputs": []
    },
    {
      "cell_type": "markdown",
      "source": [
        "Devido a grande quantidade de valores para **Tags**, será escolhido apenas os 20 mais frequentes para o One-Hot Encoding."
      ],
      "metadata": {
        "id": "48HFsePv6cWS"
      }
    },
    {
      "cell_type": "code",
      "source": [
        "tags = drama['Tags'].explode()\n",
        "tags_top20 = tags.value_counts().head(20).index.tolist()\n",
        "print(tags_top20)"
      ],
      "metadata": {
        "colab": {
          "base_uri": "https://localhost:8080/"
        },
        "id": "RaxaErmXyL_N",
        "outputId": "45d62190-9676-425c-cf26-db5827a9763c"
      },
      "execution_count": 161,
      "outputs": [
        {
          "output_type": "stream",
          "name": "stdout",
          "text": [
            "['Nice Male Lead', 'Love Triangle', 'Rich Male Lead', 'Hidden Identity', 'Bromance', 'Hardworking Female Lead', 'Death', 'Smart Male Lead', 'Smart Female Lead', 'Male Chases Female First', 'First Love', 'Trauma', 'Cohabitation', 'Character Development', 'Healing', 'Hardworking Male Lead', 'Adapted From A Webtoon', 'Boss-Employee Relationship', 'School Bullying', 'High School']\n"
          ]
        }
      ]
    },
    {
      "cell_type": "code",
      "source": [
        "for tag in tags_top20:\n",
        "    drama[f'{tag}'] = drama['Tags'].apply(lambda x: int(tag in x))\n",
        "\n",
        "drama.drop(columns=['Tags'], inplace=True)"
      ],
      "metadata": {
        "id": "An1sF07Bvl5G"
      },
      "execution_count": 162,
      "outputs": []
    },
    {
      "cell_type": "markdown",
      "source": [
        "Agora visualizando o resultado final da tabela após usar o método One-Hot Encoding para as colunas **Genres** e **Tags**."
      ],
      "metadata": {
        "id": "bnY5g5P_6ihE"
      }
    },
    {
      "cell_type": "markdown",
      "source": [
        "### **2.5. Qualitativa e Quantitativa**"
      ],
      "metadata": {
        "id": "zVQFGolI85C_"
      }
    },
    {
      "cell_type": "markdown",
      "source": [
        "Classificação das variáveis em qualitativas e quantitativas melhor otimização do código."
      ],
      "metadata": {
        "id": "w-sFkC4J8Wy-"
      }
    },
    {
      "cell_type": "code",
      "source": [
        "quali = []\n",
        "quanti = []\n",
        "\n",
        "for column in drama.columns:\n",
        "    if drama[column].dtype == 'object' or drama[column].dtype == 'category':\n",
        "        quali.append(column)\n",
        "    else:\n",
        "        quanti.append(column)\n",
        "\n",
        "quali.remove('Name')\n",
        "\n",
        "print(quali)\n",
        "print(quanti)"
      ],
      "metadata": {
        "colab": {
          "base_uri": "https://localhost:8080/"
        },
        "id": "tV7hD_IY9eNt",
        "outputId": "d732c7d4-7c47-4fd3-c7b0-7fbd77682171"
      },
      "execution_count": 163,
      "outputs": [
        {
          "output_type": "stream",
          "name": "stdout",
          "text": [
            "['Rating', 'Watchers', 'Ep. Duration', 'Aired On']\n",
            "['Year', 'Episodes', 'Romance', 'Comedy', 'Drama', 'Fantasy', 'Thriller', 'Life', 'Action', 'Melodrama', 'Mystery', 'Youth', 'Supernatural', 'Psychological', 'Horror', 'Business', 'Crime', 'Nice Male Lead', 'Love Triangle', 'Rich Male Lead', 'Hidden Identity', 'Bromance', 'Hardworking Female Lead', 'Death', 'Smart Male Lead', 'Smart Female Lead', 'Male Chases Female First', 'First Love', 'Trauma', 'Cohabitation', 'Character Development', 'Healing', 'Hardworking Male Lead', 'Adapted From A Webtoon', 'Boss-Employee Relationship', 'School Bullying', 'High School']\n"
          ]
        }
      ]
    },
    {
      "cell_type": "markdown",
      "source": [
        "## **3. Análise Descritiva dos Dados**"
      ],
      "metadata": {
        "id": "lyPBv-pQ7Jsq"
      }
    },
    {
      "cell_type": "code",
      "source": [
        "drama.info()"
      ],
      "metadata": {
        "colab": {
          "base_uri": "https://localhost:8080/"
        },
        "id": "bLQumGCzv_V7",
        "outputId": "f293d19b-f17a-4690-97bb-a20644dc3615"
      },
      "execution_count": 164,
      "outputs": [
        {
          "output_type": "stream",
          "name": "stdout",
          "text": [
            "<class 'pandas.core.frame.DataFrame'>\n",
            "RangeIndex: 100 entries, 0 to 99\n",
            "Data columns (total 42 columns):\n",
            " #   Column                      Non-Null Count  Dtype   \n",
            "---  ------                      --------------  -----   \n",
            " 0   Name                        100 non-null    object  \n",
            " 1   Year                        100 non-null    int64   \n",
            " 2   Rating                      100 non-null    category\n",
            " 3   Watchers                    100 non-null    category\n",
            " 4   Episodes                    100 non-null    int64   \n",
            " 5   Ep. Duration                100 non-null    category\n",
            " 6   Aired On                    100 non-null    object  \n",
            " 7   Romance                     100 non-null    int64   \n",
            " 8   Comedy                      100 non-null    int64   \n",
            " 9   Drama                       100 non-null    int64   \n",
            " 10  Fantasy                     100 non-null    int64   \n",
            " 11  Thriller                    100 non-null    int64   \n",
            " 12  Life                        100 non-null    int64   \n",
            " 13  Action                      100 non-null    int64   \n",
            " 14  Melodrama                   100 non-null    int64   \n",
            " 15  Mystery                     100 non-null    int64   \n",
            " 16  Youth                       100 non-null    int64   \n",
            " 17  Supernatural                100 non-null    int64   \n",
            " 18  Psychological               100 non-null    int64   \n",
            " 19  Horror                      100 non-null    int64   \n",
            " 20  Business                    100 non-null    int64   \n",
            " 21  Crime                       100 non-null    int64   \n",
            " 22  Nice Male Lead              100 non-null    int64   \n",
            " 23  Love Triangle               100 non-null    int64   \n",
            " 24  Rich Male Lead              100 non-null    int64   \n",
            " 25  Hidden Identity             100 non-null    int64   \n",
            " 26  Bromance                    100 non-null    int64   \n",
            " 27  Hardworking Female Lead     100 non-null    int64   \n",
            " 28  Death                       100 non-null    int64   \n",
            " 29  Smart Male Lead             100 non-null    int64   \n",
            " 30  Smart Female Lead           100 non-null    int64   \n",
            " 31  Male Chases Female First    100 non-null    int64   \n",
            " 32  First Love                  100 non-null    int64   \n",
            " 33  Trauma                      100 non-null    int64   \n",
            " 34  Cohabitation                100 non-null    int64   \n",
            " 35  Character Development       100 non-null    int64   \n",
            " 36  Healing                     100 non-null    int64   \n",
            " 37  Hardworking Male Lead       100 non-null    int64   \n",
            " 38  Adapted From A Webtoon      100 non-null    int64   \n",
            " 39  Boss-Employee Relationship  100 non-null    int64   \n",
            " 40  School Bullying             100 non-null    int64   \n",
            " 41  High School                 100 non-null    int64   \n",
            "dtypes: category(3), int64(37), object(2)\n",
            "memory usage: 31.7+ KB\n"
          ]
        }
      ]
    },
    {
      "cell_type": "markdown",
      "source": [
        "### **3.1. Análise univariada qualitativa**"
      ],
      "metadata": {
        "id": "hwtg-ofZjKuE"
      }
    },
    {
      "cell_type": "code",
      "source": [
        "fig, axes = plt.subplots(figsize=(15, 9), ncols = 2, nrows = 2)\n",
        "axes = axes.flatten()\n",
        "\n",
        "ordem_personalizada = {\n",
        "    'Rating': ['7 a 7.5', '7.6 a 8', '8.1 a 8.5', '8.6 a 9', '9.1 a 10'],\n",
        "    'Watchers': ['82.611 a 99.849', '99.850 a 117.086', '117.087 a 134.324', '134.325 a 151.561', '151.562 a 168.798', '168.799 a 186.036', '186.037 a 203.273', '203.274 a 220.511', '220.512 a 237.748', '237.749 a 254.985'],\n",
        "    'Ep. Duration': ['00:30 a 00:40', '00:41 a 00:50', '00:51 a 00:60', '00:61 a 00:70', '00:71 a 00:80', '00:81 a 00:95'],\n",
        "    'Aired On': ['Monday, Tuesday', 'Wednesday, Thursday', 'Friday, Saturday', 'Saturday, Sunday', 'Wednesday', 'Thursday', 'Friday', 'Saturday']\n",
        "}\n",
        "\n",
        "for i, variavel in enumerate(quali):\n",
        "    order = ordem_personalizada.get(variavel, drama[variavel].value_counts().index)\n",
        "    # Criar a figura\n",
        "    ax = sns.countplot(drama, y=variavel, ax=axes[i], order=order, alpha=.8, color='lightpink')\n",
        "    ax.bar_label(ax.containers[0], fmt=\"%d\", color=\"black\", label_type=\"edge\", fontsize=12)\n",
        "    ax.set(title=f\"Distribuição da variável {variavel}\", xlabel = \"Quantidade\")\n",
        "    ax.title.set_fontsize(16)\n",
        "    ax.xaxis.label.set_fontsize(14)\n",
        "    ax.yaxis.label.set_fontsize(14)\n",
        "\n",
        "    for side in [\"bottom\", \"top\", \"right\"]:\n",
        "        ax.spines[side].set_visible(False)\n",
        "    ax.spines[\"left\"].set_color(\"black\")\n",
        "\n",
        "plt.tight_layout(h_pad=2.5, w_pad=2.5)\n",
        "plt.show()"
      ],
      "metadata": {
        "id": "unH-7aff8CMq",
        "colab": {
          "base_uri": "https://localhost:8080/",
          "height": 907
        },
        "outputId": "e62cfce5-7c4a-40c5-e4e6-612143bc81ff"
      },
      "execution_count": 165,
      "outputs": [
        {
          "output_type": "display_data",
          "data": {
            "text/plain": [
              "<Figure size 1500x900 with 4 Axes>"
            ],
            "image/png": "[encoded data removed]"
          },
          "metadata": {}
        }
      ]
    },
    {
      "cell_type": "markdown",
      "source": [
        "A maior parte desse conjunto possui uma avaliação média de **8.1 a 8.5**, enquanto a minoria possui uma avaliação mais baixa — **7.1 a 7.5** — ou uma avalição muito alta — **9.1 a 10**.\n",
        "A maioria está abaixo dos **100.000** espectadores da plataforma, o valor mais alto, de **237.749 a 254.985** possui apenas 2 K-Dramas.\n",
        "Para a duração dos episódios, é mais comum que eles tenham entre **50 e 70 minutos**.\n",
        "**Quarta e Quinta** e **Segunda e Terça** são os padrões de lançamentos que mais aparecem nessa lista."
      ],
      "metadata": {
        "id": "RQVW-I4fg78T"
      }
    },
    {
      "cell_type": "markdown",
      "source": [
        "### **3.2. Análise univariada quantitativa**"
      ],
      "metadata": {
        "id": "AGrmrxrSjVgK"
      }
    },
    {
      "cell_type": "code",
      "source": [
        "fig, axes = plt.subplots(figsize=(12, 6), ncols=2, nrows=2)\n",
        "\n",
        "variaveis = ['Year', 'Episodes']\n",
        "for i, variavel in enumerate(variaveis):\n",
        "    ax = sns.histplot(data=drama, x=variavel, ax=axes[i, 0], kde=True, alpha=.8, color='pink')\n",
        "    ax.axvline(drama[variavel].median(), color=\"blue\", label=\"Mediana\")\n",
        "    ax.axvline(drama[variavel].mean(), color=\"red\", linestyle=\"--\", label=\"Média\")\n",
        "    ax.set(title=f\"Distribuição da variável {variavel}\", ylabel=\"Quantidade\")\n",
        "    ax.legend()\n",
        "    ax.spines[\"bottom\"].set_color(\"black\")\n",
        "    ax.grid(False, axis=\"x\")\n",
        "    for side in [\"left\", \"top\", \"right\"]:\n",
        "        ax.spines[side].set_visible(False)\n",
        "    ax = sns.boxplot(data=drama, x=variavel, ax=axes[i, 1], color='pink')\n",
        "    ax.set(title=f\"Distribuição da variável {variavel}\", ylabel=\"Quantidade\")\n",
        "    ax.spines[\"bottom\"].set_color(\"black\")\n",
        "    ax.grid(False)\n",
        "\n",
        "\n",
        "plt.tight_layout(h_pad=8, w_pad=8)\n",
        "plt.tight_layout()\n",
        "plt.plot()"
      ],
      "metadata": {
        "colab": {
          "base_uri": "https://localhost:8080/",
          "height": 624
        },
        "id": "IfF7iFdKjU-_",
        "outputId": "dd96c9a4-5cab-4227-c043-8f0d58247295"
      },
      "execution_count": 166,
      "outputs": [
        {
          "output_type": "execute_result",
          "data": {
            "text/plain": [
              "[]"
            ]
          },
          "metadata": {},
          "execution_count": 166
        },
        {
          "output_type": "display_data",
          "data": {
            "text/plain": [
              "<Figure size 1200x600 with 4 Axes>"
            ],
            "image/png": "[encoded data removed]"
          },
          "metadata": {}
        }
      ]
    },
    {
      "cell_type": "markdown",
      "source": [
        "Existe uma variedade no ano de lançamento de cada K-Drama desse dataset, no entanto, há uma maior concentração entre 2016 e 2020. Indicando que as séries dessa época se destacaram mais para o público do que outros momentos. Enquanto as mais antigas dificilmente figuram nessa lista, sendo outliers.\n",
        "K-Dramas com **16 episódios** são o padrão, poucas séries fogem disso. No gráfico boxplot é possível notar a grande concentração ao redor desse número, sendo todos os outros valores considerados outliers pois não se destacam muito. Entretanto, ainda há uma quantidade notável que possui **20 episódios**."
      ],
      "metadata": {
        "id": "4kmxa0yUpGgf"
      }
    },
    {
      "cell_type": "markdown",
      "source": [
        "### **3.3. Análise bivariada**"
      ],
      "metadata": {
        "id": "qTx6geCyrz9h"
      }
    },
    {
      "cell_type": "code",
      "source": [
        "# Lista de variáveis qualitativas (One Hot)\n",
        "variaveis = [\n",
        "    'Romance', 'Comedy', 'Drama', 'Fantasy', 'Thriller', 'Life', 'Action', 'Melodrama',\n",
        "    'Mystery', 'Youth', 'Supernatural', 'Psychological', 'Horror', 'Business', 'Crime',\n",
        "    'Nice Male Lead', 'Love Triangle', 'Rich Male Lead', 'Hidden Identity', 'Bromance',\n",
        "    'Hardworking Female Lead', 'Death', 'Smart Male Lead', 'Smart Female Lead',\n",
        "    'Male Chases Female First', 'First Love', 'Trauma', 'Cohabitation', 'Character Development',\n",
        "    'Healing', 'Hardworking Male Lead', 'Adapted From A Webtoon', 'Boss-Employee Relationship',\n",
        "    'School Bullying', 'High School'\n",
        "]\n",
        "\n",
        "# Agrupar por faixa de rating e somar as variáveis one-hot\n",
        "agrupado = drama.groupby(\"Rating\")[variaveis].sum().T  # Transpõe para colocar variáveis no eixo Y\n",
        "\n",
        "# Plot horizontal (barh = horizontal bars)\n",
        "fig, ax = plt.subplots(figsize=(12, 12))\n",
        "agrupado.plot(kind='barh', stacked=True, colormap='flare', ax=ax, width=0.7)\n",
        "\n",
        "# Inverter eixo x para que as barras \"desçam\" (da direita para a esquerda)\n",
        "ax.invert_yaxis()\n",
        "\n",
        "# Estilização\n",
        "ax.set_title(\"Distribuição de Temas por Faixa de Rating\", fontsize=16)\n",
        "ax.set_ylabel(\"Genres e Tags\", fontsize=14)\n",
        "ax.set_xlabel(\"Quantidade de Dramas\", fontsize=14)\n",
        "ax.tick_params(axis='y', labelsize=12)\n",
        "ax.tick_params(axis='x', labelsize=12)\n",
        "ax.legend(title=\"Faixa de Rating\", fontsize=16, title_fontsize=12)\n",
        "plt.tight_layout()\n",
        "plt.show()"
      ],
      "metadata": {
        "colab": {
          "base_uri": "https://localhost:8080/",
          "height": 1000
        },
        "id": "fWQIS2dOrzPG",
        "outputId": "bb829823-ee8c-40cd-871a-9510033a0d59"
      },
      "execution_count": 167,
      "outputs": [
        {
          "output_type": "stream",
          "name": "stderr",
          "text": [
            "<ipython-input-167-5caa5df36d6c>:13: FutureWarning: The default of observed=False is deprecated and will be changed to True in a future version of pandas. Pass observed=False to retain current behavior or observed=True to adopt the future default and silence this warning.\n",
            "  agrupado = drama.groupby(\"Rating\")[variaveis].sum().T  # Transpõe para colocar variáveis no eixo Y\n"
          ]
        },
        {
          "output_type": "display_data",
          "data": {
            "text/plain": [
              "<Figure size 1200x1200 with 1 Axes>"
            ],
            "image/png": "[encoded data removed]"
          },
          "metadata": {}
        }
      ]
    },
    {
      "cell_type": "markdown",
      "source": [
        "**Crime** se destaca com avaliações mais altas. **Romance**, **Comedy** e **Drama** são os temas mais frequentes, possuindo K-Dramas em todas as faixas de avaliações, porém tendo maior concentração em avaliações mais medianas, entre **8.1 a 8.5**. **Business** fica um pouco abaixo dos demais, não possuindo nenhuma série com avaliação maior do que **8.5**."
      ],
      "metadata": {
        "id": "NDkn0sFgr9ID"
      }
    },
    {
      "cell_type": "markdown",
      "source": [
        "## **4. Teste de Hipóteses**"
      ],
      "metadata": {
        "id": "w4ri2Cxd8GcA"
      }
    },
    {
      "cell_type": "markdown",
      "source": [
        "Para realizar o teste de hipóteses, é interesse criar duas listas para separar as variáveis entre quantitativas e qualitativas, com o intuito de otimizar o teste."
      ],
      "metadata": {
        "id": "GN2aIhHRHliG"
      }
    },
    {
      "cell_type": "markdown",
      "source": [
        "### **4.1. Teste de hipóteses *Rating x Qualitativas***"
      ],
      "metadata": {
        "id": "BozQ0bfCIMrB"
      }
    },
    {
      "cell_type": "code",
      "source": [
        "remover = []\n",
        "\n",
        "for qualitativa in quali:\n",
        "  tabela = pd.crosstab(drama['Rating'], drama[qualitativa])\n",
        "  qui2, p_valor, _, _ = stats.chi2_contingency(tabela)\n",
        "  print(f'\\nAssociação entre Rating e {qualitativa}')\n",
        "  print(f'p-valor = {p_valor:.4f}')\n",
        "  if p_valor < 0.05:\n",
        "      print(\"- Existe associação significativa.\")\n",
        "  else:\n",
        "      print(\"- Não há associação significativa.\")\n",
        "      remover.append(qualitativa)"
      ],
      "metadata": {
        "colab": {
          "base_uri": "https://localhost:8080/"
        },
        "id": "7QNqgXal_mB3",
        "outputId": "a6e863d4-c3d1-4479-ddf7-49507b08cfac"
      },
      "execution_count": 168,
      "outputs": [
        {
          "output_type": "stream",
          "name": "stdout",
          "text": [
            "\n",
            "Associação entre Rating e Rating\n",
            "p-valor = 0.0000\n",
            "- Existe associação significativa.\n",
            "\n",
            "Associação entre Rating e Watchers\n",
            "p-valor = 0.2632\n",
            "- Não há associação significativa.\n",
            "\n",
            "Associação entre Rating e Ep. Duration\n",
            "p-valor = 0.0142\n",
            "- Existe associação significativa.\n",
            "\n",
            "Associação entre Rating e Aired On\n",
            "p-valor = 0.0029\n",
            "- Existe associação significativa.\n"
          ]
        }
      ]
    },
    {
      "cell_type": "markdown",
      "source": [
        "Existe associação significativa para as variáveis **Ep. Duration** e **Aired On**, elas teram forte influência na rede bayesiana."
      ],
      "metadata": {
        "id": "KxoHiWclJF_K"
      }
    },
    {
      "cell_type": "markdown",
      "source": [
        "### **4.2. Teste de hipóteses *Rating x Quantitativas***"
      ],
      "metadata": {
        "id": "CyicoqOEIZAY"
      }
    },
    {
      "cell_type": "code",
      "source": [
        "for quantitativa in quanti:\n",
        "    grupos = [grupo[quantitativa].dropna().values for nome, grupo in drama.groupby('Rating')]\n",
        "    h_stat, p_valor = stats.kruskal(*grupos)\n",
        "\n",
        "    print(f'\\nAssociação entre Rating e {quantitativa}')\n",
        "    print(f'Estatística H = {h_stat:.4f}, p-valor = {p_valor:.4f}')\n",
        "\n",
        "    if p_valor < 0.05:\n",
        "        print(\"- Existe associação significativa (diferenças entre os grupos de Rating).\")\n",
        "    else:\n",
        "        print(\"- Não há associação significativa.\")\n",
        "        remover.append(quantitativa)\n"
      ],
      "metadata": {
        "colab": {
          "base_uri": "https://localhost:8080/"
        },
        "id": "yLl6mq6oEoe_",
        "outputId": "e60e85b1-17b9-4856-c2ac-5463552cb537"
      },
      "execution_count": 169,
      "outputs": [
        {
          "output_type": "stream",
          "name": "stdout",
          "text": [
            "\n",
            "Associação entre Rating e Year\n",
            "Estatística H = 18.4475, p-valor = 0.0010\n",
            "- Existe associação significativa (diferenças entre os grupos de Rating).\n",
            "\n",
            "Associação entre Rating e Episodes\n",
            "Estatística H = 5.6151, p-valor = 0.2298\n",
            "- Não há associação significativa.\n",
            "\n",
            "Associação entre Rating e Romance\n",
            "Estatística H = 13.0273, p-valor = 0.0111\n",
            "- Existe associação significativa (diferenças entre os grupos de Rating).\n",
            "\n",
            "Associação entre Rating e Comedy\n",
            "Estatística H = 6.2321, p-valor = 0.1825\n",
            "- Não há associação significativa.\n",
            "\n",
            "Associação entre Rating e Drama\n",
            "Estatística H = 10.4767, p-valor = 0.0331\n",
            "- Existe associação significativa (diferenças entre os grupos de Rating).\n",
            "\n",
            "Associação entre Rating e Fantasy\n",
            "Estatística H = 1.2447, p-valor = 0.8707\n",
            "- Não há associação significativa.\n",
            "\n",
            "Associação entre Rating e Thriller\n",
            "Estatística H = 3.1867, p-valor = 0.5271\n",
            "- Não há associação significativa.\n",
            "\n",
            "Associação entre Rating e Life\n",
            "Estatística H = 7.4925, p-valor = 0.1120\n",
            "- Não há associação significativa.\n"
          ]
        },
        {
          "output_type": "stream",
          "name": "stderr",
          "text": [
            "<ipython-input-169-bec9638a5663>:2: FutureWarning: The default of observed=False is deprecated and will be changed to True in a future version of pandas. Pass observed=False to retain current behavior or observed=True to adopt the future default and silence this warning.\n",
            "  grupos = [grupo[quantitativa].dropna().values for nome, grupo in drama.groupby('Rating')]\n"
          ]
        },
        {
          "output_type": "stream",
          "name": "stdout",
          "text": [
            "\n",
            "Associação entre Rating e Action\n",
            "Estatística H = 4.1433, p-valor = 0.3870\n",
            "- Não há associação significativa.\n",
            "\n",
            "Associação entre Rating e Melodrama\n",
            "Estatística H = 1.9708, p-valor = 0.7411\n",
            "- Não há associação significativa.\n",
            "\n",
            "Associação entre Rating e Mystery\n",
            "Estatística H = 2.5892, p-valor = 0.6287\n",
            "- Não há associação significativa.\n",
            "\n",
            "Associação entre Rating e Youth\n",
            "Estatística H = 15.6339, p-valor = 0.0036\n",
            "- Existe associação significativa (diferenças entre os grupos de Rating).\n",
            "\n",
            "Associação entre Rating e Supernatural\n",
            "Estatística H = 4.8239, p-valor = 0.3059\n",
            "- Não há associação significativa.\n",
            "\n",
            "Associação entre Rating e Psychological\n",
            "Estatística H = 1.3905, p-valor = 0.8459\n",
            "- Não há associação significativa.\n",
            "\n",
            "Associação entre Rating e Horror\n",
            "Estatística H = 3.0899, p-valor = 0.5429\n",
            "- Não há associação significativa.\n",
            "\n",
            "Associação entre Rating e Business\n",
            "Estatística H = 6.3733, p-valor = 0.1730\n",
            "- Não há associação significativa.\n",
            "\n",
            "Associação entre Rating e Crime\n",
            "Estatística H = 2.1085, p-valor = 0.7158\n",
            "- Não há associação significativa.\n",
            "\n",
            "Associação entre Rating e Nice Male Lead\n",
            "Estatística H = 5.4353, p-valor = 0.2455\n",
            "- Não há associação significativa.\n",
            "\n",
            "Associação entre Rating e Love Triangle\n",
            "Estatística H = 27.7967, p-valor = 0.0000\n",
            "- Existe associação significativa (diferenças entre os grupos de Rating).\n",
            "\n",
            "Associação entre Rating e Rich Male Lead\n",
            "Estatística H = 5.0579, p-valor = 0.2814\n",
            "- Não há associação significativa.\n",
            "\n",
            "Associação entre Rating e Hidden Identity\n",
            "Estatística H = 3.8663, p-valor = 0.4244\n",
            "- Não há associação significativa.\n",
            "\n",
            "Associação entre Rating e Bromance\n",
            "Estatística H = 3.5182, p-valor = 0.4751\n",
            "- Não há associação significativa.\n",
            "\n",
            "Associação entre Rating e Hardworking Female Lead\n",
            "Estatística H = 7.5937, p-valor = 0.1076\n",
            "- Não há associação significativa.\n",
            "\n",
            "Associação entre Rating e Death\n",
            "Estatística H = 1.6922, p-valor = 0.7921\n",
            "- Não há associação significativa.\n",
            "\n",
            "Associação entre Rating e Smart Male Lead\n",
            "Estatística H = 3.5913, p-valor = 0.4641\n",
            "- Não há associação significativa.\n",
            "\n",
            "Associação entre Rating e Smart Female Lead\n",
            "Estatística H = 1.2072, p-valor = 0.8769\n",
            "- Não há associação significativa.\n",
            "\n",
            "Associação entre Rating e Male Chases Female First\n",
            "Estatística H = 6.3235, p-valor = 0.1763\n",
            "- Não há associação significativa.\n",
            "\n",
            "Associação entre Rating e First Love\n",
            "Estatística H = 3.4513, p-valor = 0.4853\n",
            "- Não há associação significativa.\n",
            "\n",
            "Associação entre Rating e Trauma\n",
            "Estatística H = 4.5726, p-valor = 0.3340\n",
            "- Não há associação significativa.\n",
            "\n",
            "Associação entre Rating e Cohabitation\n",
            "Estatística H = 6.2364, p-valor = 0.1822\n",
            "- Não há associação significativa.\n",
            "\n",
            "Associação entre Rating e Character Development\n",
            "Estatística H = 3.2109, p-valor = 0.5232\n",
            "- Não há associação significativa.\n",
            "\n",
            "Associação entre Rating e Healing\n",
            "Estatística H = 3.3578, p-valor = 0.4998\n",
            "- Não há associação significativa.\n",
            "\n",
            "Associação entre Rating e Hardworking Male Lead\n",
            "Estatística H = 4.6563, p-valor = 0.3244\n",
            "- Não há associação significativa.\n",
            "\n",
            "Associação entre Rating e Adapted From A Webtoon\n",
            "Estatística H = 12.4416, p-valor = 0.0144\n",
            "- Existe associação significativa (diferenças entre os grupos de Rating).\n",
            "\n",
            "Associação entre Rating e Boss-Employee Relationship\n",
            "Estatística H = 2.7889, p-valor = 0.5937\n",
            "- Não há associação significativa.\n",
            "\n",
            "Associação entre Rating e School Bullying\n",
            "Estatística H = 7.5565, p-valor = 0.1092\n",
            "- Não há associação significativa.\n",
            "\n",
            "Associação entre Rating e High School\n",
            "Estatística H = 9.7070, p-valor = 0.0457\n",
            "- Existe associação significativa (diferenças entre os grupos de Rating).\n"
          ]
        }
      ]
    },
    {
      "cell_type": "markdown",
      "source": [
        "Existe associação significativa para as variáveis **Year**, **Romance**, **Drama**, **Youth**, **Love Triangle**, **Adapted From a Webtoon** e **High School**, elas teram forte influência na rede bayesiana."
      ],
      "metadata": {
        "id": "laSbwE8VJq5P"
      }
    },
    {
      "cell_type": "markdown",
      "source": [
        "### **4.3. Removendo colunas sem associação significativa**"
      ],
      "metadata": {
        "id": "RfvPKEcYKJaN"
      }
    },
    {
      "cell_type": "code",
      "source": [
        "for coluna in remover:\n",
        "    drama.drop(columns=[coluna], inplace=True)"
      ],
      "metadata": {
        "id": "uracxNJjKRoO"
      },
      "execution_count": 170,
      "outputs": []
    },
    {
      "cell_type": "code",
      "source": [
        "drama.info()"
      ],
      "metadata": {
        "colab": {
          "base_uri": "https://localhost:8080/"
        },
        "id": "z2YGle9hKUh0",
        "outputId": "6441d3ef-c938-4868-ac9a-fea410150f43"
      },
      "execution_count": 171,
      "outputs": [
        {
          "output_type": "stream",
          "name": "stdout",
          "text": [
            "<class 'pandas.core.frame.DataFrame'>\n",
            "RangeIndex: 100 entries, 0 to 99\n",
            "Data columns (total 11 columns):\n",
            " #   Column                  Non-Null Count  Dtype   \n",
            "---  ------                  --------------  -----   \n",
            " 0   Name                    100 non-null    object  \n",
            " 1   Year                    100 non-null    int64   \n",
            " 2   Rating                  100 non-null    category\n",
            " 3   Ep. Duration            100 non-null    category\n",
            " 4   Aired On                100 non-null    object  \n",
            " 5   Romance                 100 non-null    int64   \n",
            " 6   Drama                   100 non-null    int64   \n",
            " 7   Youth                   100 non-null    int64   \n",
            " 8   Love Triangle           100 non-null    int64   \n",
            " 9   Adapted From A Webtoon  100 non-null    int64   \n",
            " 10  High School             100 non-null    int64   \n",
            "dtypes: category(2), int64(7), object(2)\n",
            "memory usage: 7.8+ KB\n"
          ]
        }
      ]
    },
    {
      "cell_type": "markdown",
      "source": [
        "## **5. Rede Bayesiana**"
      ],
      "metadata": {
        "id": "5TI8Xv4KKgfj"
      }
    },
    {
      "cell_type": "markdown",
      "source": [
        "### **5.1. Grafo da Rede Bayesiana**"
      ],
      "metadata": {
        "id": "j3P8cvaeN8Yr"
      }
    },
    {
      "cell_type": "markdown",
      "source": [
        "Construindo a **Rede Bayesiana** utilizando as informações obtidas no teste de hipóteses realizado:"
      ],
      "metadata": {
        "id": "3jt72DP_K7ze"
      }
    },
    {
      "cell_type": "code",
      "source": [
        "estrutura = DiscreteBayesianNetwork([\n",
        "    (\"Year\", \"Rating\"),\n",
        "    (\"Ep. Duration\", \"Rating\"),\n",
        "    (\"Aired On\", \"Rating\"),\n",
        "    (\"Romance\", \"Rating\"),\n",
        "    (\"Drama\", \"Rating\"),\n",
        "    (\"Youth\", \"Rating\"),\n",
        "    (\"Love Triangle\", \"Rating\"),\n",
        "    (\"Adapted From A Webtoon\", \"Rating\"),\n",
        "    (\"High School\", \"Rating\")\n",
        "])\n",
        "\n",
        "grafo = nx.DiGraph()\n",
        "edges = estrutura.edges()\n",
        "grafo.add_edges_from(edges)\n",
        "\n",
        "plt.figure(figsize=(6, 6))\n",
        "nx.draw(grafo, with_labels = True, node_color = 'lightpink', edge_color = 'black', node_size = 5000, font_size = 10)\n",
        "plt.title(\"Rede Bayesiana da variável Rating\")\n",
        "plt.show()"
      ],
      "metadata": {
        "colab": {
          "base_uri": "https://localhost:8080/",
          "height": 659
        },
        "id": "TNfpTfvHK6r6",
        "outputId": "640d9a67-8cfd-45c3-a9e3-e2f61cc41b1e"
      },
      "execution_count": 172,
      "outputs": [
        {
          "output_type": "display_data",
          "data": {
            "text/plain": [
              "<Figure size 600x600 with 1 Axes>"
            ],
            "image/png": "[encoded data removed]"
          },
          "metadata": {}
        }
      ]
    },
    {
      "cell_type": "markdown",
      "source": [
        "O código define e visualiza uma **Rede Bayesiana** onde a variável Rating é influenciada por outras variáveis como **Year, Ep. Duration, Romance, Drama,** entre outras. O grafo gerado mostra essas relações de dependência direta, representadas por setas apontando para **Rating**, o que indica que ela é a variável-alvo da análise."
      ],
      "metadata": {
        "id": "tnLt7WkBSWsn"
      }
    },
    {
      "cell_type": "markdown",
      "source": [
        "### **5.2. Estimador Bayesiano**"
      ],
      "metadata": {
        "id": "HHYcWW8wN-fh"
      }
    },
    {
      "cell_type": "code",
      "source": [
        "estrutura.fit(drama, estimator = BayesianEstimator)\n",
        "for cpd in estrutura.get_cpds():\n",
        "    print(cpd)"
      ],
      "metadata": {
        "colab": {
          "base_uri": "https://localhost:8080/"
        },
        "id": "ha0PJ2liODhW",
        "outputId": "f32cc49e-6151-4fc8-91a6-1d00d4912c0e"
      },
      "execution_count": 173,
      "outputs": [
        {
          "output_type": "stream",
          "name": "stdout",
          "text": [
            "+------------+-----------+\n",
            "| Year(2007) | 0.0125    |\n",
            "+------------+-----------+\n",
            "| Year(2009) | 0.0220238 |\n",
            "+------------+-----------+\n",
            "| Year(2010) | 0.0220238 |\n",
            "+------------+-----------+\n",
            "| Year(2011) | 0.0220238 |\n",
            "+------------+-----------+\n",
            "| Year(2013) | 0.0410714 |\n",
            "+------------+-----------+\n",
            "| Year(2014) | 0.0410714 |\n",
            "+------------+-----------+\n",
            "| Year(2015) | 0.060119  |\n",
            "+------------+-----------+\n",
            "| Year(2016) | 0.145833  |\n",
            "+------------+-----------+\n",
            "| Year(2017) | 0.0982143 |\n",
            "+------------+-----------+\n",
            "| Year(2018) | 0.0505952 |\n",
            "+------------+-----------+\n",
            "| Year(2019) | 0.107738  |\n",
            "+------------+-----------+\n",
            "| Year(2020) | 0.13631   |\n",
            "+------------+-----------+\n",
            "| Year(2021) | 0.0982143 |\n",
            "+------------+-----------+\n",
            "| Year(2022) | 0.0791667 |\n",
            "+------------+-----------+\n",
            "| Year(2023) | 0.0410714 |\n",
            "+------------+-----------+\n",
            "| Year(2024) | 0.0220238 |\n",
            "+------------+-----------+\n",
            "+------------------------+-----+-------------------------------+\n",
            "| Adapted From A Webtoon | ... | Adapted From A Webtoon(1)     |\n",
            "+------------------------+-----+-------------------------------+\n",
            "| Aired On               | ... | Aired On(Wednesday, Thursday) |\n",
            "+------------------------+-----+-------------------------------+\n",
            "| Drama                  | ... | Drama(1)                      |\n",
            "+------------------------+-----+-------------------------------+\n",
            "| Ep. Duration           | ... | Ep. Duration(00:81 a 00:95)   |\n",
            "+------------------------+-----+-------------------------------+\n",
            "| High School            | ... | High School(1)                |\n",
            "+------------------------+-----+-------------------------------+\n",
            "| Love Triangle          | ... | Love Triangle(1)              |\n",
            "+------------------------+-----+-------------------------------+\n",
            "| Romance                | ... | Romance(1)                    |\n",
            "+------------------------+-----+-------------------------------+\n",
            "| Year                   | ... | Year(2024)                    |\n",
            "+------------------------+-----+-------------------------------+\n",
            "| Youth                  | ... | Youth(1)                      |\n",
            "+------------------------+-----+-------------------------------+\n",
            "| Rating(7 a 7.5)        | ... | 0.2                           |\n",
            "+------------------------+-----+-------------------------------+\n",
            "| Rating(7.6 a 8)        | ... | 0.2                           |\n",
            "+------------------------+-----+-------------------------------+\n",
            "| Rating(8.1 a 8.5)      | ... | 0.2                           |\n",
            "+------------------------+-----+-------------------------------+\n",
            "| Rating(8.6 a 9)        | ... | 0.2                           |\n",
            "+------------------------+-----+-------------------------------+\n",
            "| Rating(9.1 a 10)       | ... | 0.2                           |\n",
            "+------------------------+-----+-------------------------------+\n",
            "+-----------------------------+-----------+\n",
            "| Ep. Duration(00:30 a 00:40) | 0.0650794 |\n",
            "+-----------------------------+-----------+\n",
            "| Ep. Duration(00:41 a 00:50) | 0.0365079 |\n",
            "+-----------------------------+-----------+\n",
            "| Ep. Duration(00:51 a 00:60) | 0.34127   |\n",
            "+-----------------------------+-----------+\n",
            "| Ep. Duration(00:61 a 00:70) | 0.331746  |\n",
            "+-----------------------------+-----------+\n",
            "| Ep. Duration(00:71 a 00:80) | 0.14127   |\n",
            "+-----------------------------+-----------+\n",
            "| Ep. Duration(00:81 a 00:95) | 0.084127  |\n",
            "+-----------------------------+-----------+\n",
            "+-------------------------------+-----------+\n",
            "| Aired On(Friday)              | 0.0821429 |\n",
            "+-------------------------------+-----------+\n",
            "| Aired On(Friday, Saturday)    | 0.14881   |\n",
            "+-------------------------------+-----------+\n",
            "| Aired On(Monday, Tuesday)     | 0.253571  |\n",
            "+-------------------------------+-----------+\n",
            "| Aired On(Saturday)            | 0.0154762 |\n",
            "+-------------------------------+-----------+\n",
            "| Aired On(Saturday, Sunday)    | 0.14881   |\n",
            "+-------------------------------+-----------+\n",
            "| Aired On(Thursday)            | 0.025     |\n",
            "+-------------------------------+-----------+\n",
            "| Aired On(Wednesday)           | 0.0154762 |\n",
            "+-------------------------------+-----------+\n",
            "| Aired On(Wednesday, Thursday) | 0.310714  |\n",
            "+-------------------------------+-----------+\n",
            "+------------+----------+\n",
            "| Romance(0) | 0.204762 |\n",
            "+------------+----------+\n",
            "| Romance(1) | 0.795238 |\n",
            "+------------+----------+\n",
            "+----------+----------+\n",
            "| Drama(0) | 0.442857 |\n",
            "+----------+----------+\n",
            "| Drama(1) | 0.557143 |\n",
            "+----------+----------+\n",
            "+----------+----------+\n",
            "| Youth(0) | 0.852381 |\n",
            "+----------+----------+\n",
            "| Youth(1) | 0.147619 |\n",
            "+----------+----------+\n",
            "+------------------+---------+\n",
            "| Love Triangle(0) | 0.77619 |\n",
            "+------------------+---------+\n",
            "| Love Triangle(1) | 0.22381 |\n",
            "+------------------+---------+\n",
            "+---------------------------+----------+\n",
            "| Adapted From A Webtoon(0) | 0.871429 |\n",
            "+---------------------------+----------+\n",
            "| Adapted From A Webtoon(1) | 0.128571 |\n",
            "+---------------------------+----------+\n",
            "+----------------+----------+\n",
            "| High School(0) | 0.871429 |\n",
            "+----------------+----------+\n",
            "| High School(1) | 0.128571 |\n",
            "+----------------+----------+\n"
          ]
        }
      ]
    },
    {
      "cell_type": "markdown",
      "source": [
        "Assim, foi realizado o ajuste na **Rede Bayesiana** com base nos dados e na probabilidade de cada variável assumir."
      ],
      "metadata": {
        "id": "d7f5IQJKthqk"
      }
    },
    {
      "cell_type": "markdown",
      "source": [
        "### **5.3. Predição da variável *Rating***"
      ],
      "metadata": {
        "id": "-8F6XG_CPIju"
      }
    },
    {
      "cell_type": "code",
      "source": [
        "teste = drama.sample(5)\n",
        "display(teste)"
      ],
      "metadata": {
        "colab": {
          "base_uri": "https://localhost:8080/",
          "height": 206
        },
        "id": "-caSP2lRPPSB",
        "outputId": "fe29f2e9-7770-4264-cd6d-2807d68e9c41"
      },
      "execution_count": 174,
      "outputs": [
        {
          "output_type": "display_data",
          "data": {
            "text/plain": [
              "                   Name  Year     Rating   Ep. Duration          Aired On  \\\n",
              "17           Squid Game  2021  8.1 a 8.5  00:51 a 00:60            Friday   \n",
              "69            Happiness  2021    8.6 a 9  00:61 a 00:70  Friday, Saturday   \n",
              "89   Bring It On, Ghost  2016  8.1 a 8.5  00:51 a 00:60   Monday, Tuesday   \n",
              "0                Goblin  2016    8.6 a 9  00:81 a 00:95  Friday, Saturday   \n",
              "71  The Bride of Habaek  2017    7 a 7.5  00:61 a 00:70   Monday, Tuesday   \n",
              "\n",
              "    Romance  Drama  Youth  Love Triangle  Adapted From A Webtoon  High School  \n",
              "17        0      1      0              0                       0            0  \n",
              "69        0      1      0              0                       0            0  \n",
              "89        1      0      0              0                       1            0  \n",
              "0         1      0      0              0                       0            0  \n",
              "71        1      1      0              0                       0            0  "
            ],
            "text/html": [
              "\n",
              "  <div id=\"df-c5ce294e-3d8a-4a3a-8e35-645a761e5dbc\" class=\"colab-df-container\">\n",
              "    <div>\n",
              "<style scoped>\n",
              "    .dataframe tbody tr th:only-of-type {\n",
              "        vertical-align: middle;\n",
              "    }\n",
              "\n",
              "    .dataframe tbody tr th {\n",
              "        vertical-align: top;\n",
              "    }\n",
              "\n",
              "    .dataframe thead th {\n",
              "        text-align: right;\n",
              "    }\n",
              "</style>\n",
              "<table border=\"1\" class=\"dataframe\">\n",
              "  <thead>\n",
              "    <tr style=\"text-align: right;\">\n",
              "      <th></th>\n",
              "      <th>Name</th>\n",
              "      <th>Year</th>\n",
              "      <th>Rating</th>\n",
              "      <th>Ep. Duration</th>\n",
              "      <th>Aired On</th>\n",
              "      <th>Romance</th>\n",
              "      <th>Drama</th>\n",
              "      <th>Youth</th>\n",
              "      <th>Love Triangle</th>\n",
              "      <th>Adapted From A Webtoon</th>\n",
              "      <th>High School</th>\n",
              "    </tr>\n",
              "  </thead>\n",
              "  <tbody>\n",
              "    <tr>\n",
              "      <th>17</th>\n",
              "      <td>Squid Game</td>\n",
              "      <td>2021</td>\n",
              "      <td>8.1 a 8.5</td>\n",
              "      <td>00:51 a 00:60</td>\n",
              "      <td>Friday</td>\n",
              "      <td>0</td>\n",
              "      <td>1</td>\n",
              "      <td>0</td>\n",
              "      <td>0</td>\n",
              "      <td>0</td>\n",
              "      <td>0</td>\n",
              "    </tr>\n",
              "    <tr>\n",
              "      <th>69</th>\n",
              "      <td>Happiness</td>\n",
              "      <td>2021</td>\n",
              "      <td>8.6 a 9</td>\n",
              "      <td>00:61 a 00:70</td>\n",
              "      <td>Friday, Saturday</td>\n",
              "      <td>0</td>\n",
              "      <td>1</td>\n",
              "      <td>0</td>\n",
              "      <td>0</td>\n",
              "      <td>0</td>\n",
              "      <td>0</td>\n",
              "    </tr>\n",
              "    <tr>\n",
              "      <th>89</th>\n",
              "      <td>Bring It On, Ghost</td>\n",
              "      <td>2016</td>\n",
              "      <td>8.1 a 8.5</td>\n",
              "      <td>00:51 a 00:60</td>\n",
              "      <td>Monday, Tuesday</td>\n",
              "      <td>1</td>\n",
              "      <td>0</td>\n",
              "      <td>0</td>\n",
              "      <td>0</td>\n",
              "      <td>1</td>\n",
              "      <td>0</td>\n",
              "    </tr>\n",
              "    <tr>\n",
              "      <th>0</th>\n",
              "      <td>Goblin</td>\n",
              "      <td>2016</td>\n",
              "      <td>8.6 a 9</td>\n",
              "      <td>00:81 a 00:95</td>\n",
              "      <td>Friday, Saturday</td>\n",
              "      <td>1</td>\n",
              "      <td>0</td>\n",
              "      <td>0</td>\n",
              "      <td>0</td>\n",
              "      <td>0</td>\n",
              "      <td>0</td>\n",
              "    </tr>\n",
              "    <tr>\n",
              "      <th>71</th>\n",
              "      <td>The Bride of Habaek</td>\n",
              "      <td>2017</td>\n",
              "      <td>7 a 7.5</td>\n",
              "      <td>00:61 a 00:70</td>\n",
              "      <td>Monday, Tuesday</td>\n",
              "      <td>1</td>\n",
              "      <td>1</td>\n",
              "      <td>0</td>\n",
              "      <td>0</td>\n",
              "      <td>0</td>\n",
              "      <td>0</td>\n",
              "    </tr>\n",
              "  </tbody>\n",
              "</table>\n",
              "</div>\n",
              "    <div class=\"colab-df-buttons\">\n",
              "\n",
              "  <div class=\"colab-df-container\">\n",
              "    <button class=\"colab-df-convert\" onclick=\"convertToInteractive('df-c5ce294e-3d8a-4a3a-8e35-645a761e5dbc')\"\n",
              "            title=\"Convert this dataframe to an interactive table.\"\n",
              "            style=\"display:none;\">\n",
              "\n",
              "  <svg xmlns=\"http://www.w3.org/2000/svg\" height=\"24px\" viewBox=\"0 -960 960 960\">\n",
              "    <path d=\"M120-120v-720h720v720H120Zm60-500h600v-160H180v160Zm220 220h160v-160H400v160Zm0 220h160v-160H400v160ZM180-400h160v-160H180v160Zm440 0h160v-160H620v160ZM180-180h160v-160H180v160Zm440 0h160v-160H620v160Z\"/>\n",
              "  </svg>\n",
              "    </button>\n",
              "\n",
              "  <style>\n",
              "    .colab-df-container {\n",
              "      display:flex;\n",
              "      gap: 12px;\n",
              "    }\n",
              "\n",
              "    .colab-df-convert {\n",
              "      background-color: #E8F0FE;\n",
              "      border: none;\n",
              "      border-radius: 50%;\n",
              "      cursor: pointer;\n",
              "      display: none;\n",
              "      fill: #1967D2;\n",
              "      height: 32px;\n",
              "      padding: 0 0 0 0;\n",
              "      width: 32px;\n",
              "    }\n",
              "\n",
              "    .colab-df-convert:hover {\n",
              "      background-color: #E2EBFA;\n",
              "      box-shadow: 0px 1px 2px rgba(60, 64, 67, 0.3), 0px 1px 3px 1px rgba(60, 64, 67, 0.15);\n",
              "      fill: #174EA6;\n",
              "    }\n",
              "\n",
              "    .colab-df-buttons div {\n",
              "      margin-bottom: 4px;\n",
              "    }\n",
              "\n",
              "    [theme=dark] .colab-df-convert {\n",
              "      background-color: #3B4455;\n",
              "      fill: #D2E3FC;\n",
              "    }\n",
              "\n",
              "    [theme=dark] .colab-df-convert:hover {\n",
              "      background-color: #434B5C;\n",
              "      box-shadow: 0px 1px 3px 1px rgba(0, 0, 0, 0.15);\n",
              "      filter: drop-shadow(0px 1px 2px rgba(0, 0, 0, 0.3));\n",
              "      fill: #FFFFFF;\n",
              "    }\n",
              "  </style>\n",
              "\n",
              "    <script>\n",
              "      const buttonEl =\n",
              "        document.querySelector('#df-c5ce294e-3d8a-4a3a-8e35-645a761e5dbc button.colab-df-convert');\n",
              "      buttonEl.style.display =\n",
              "        google.colab.kernel.accessAllowed ? 'block' : 'none';\n",
              "\n",
              "      async function convertToInteractive(key) {\n",
              "        const element = document.querySelector('#df-c5ce294e-3d8a-4a3a-8e35-645a761e5dbc');\n",
              "        const dataTable =\n",
              "          await google.colab.kernel.invokeFunction('convertToInteractive',\n",
              "                                                    [key], {});\n",
              "        if (!dataTable) return;\n",
              "\n",
              "        const docLinkHtml = 'Like what you see? Visit the ' +\n",
              "          '<a target=\"_blank\" href=https://colab.research.google.com/notebooks/data_table.ipynb>data table notebook</a>'\n",
              "          + ' to learn more about interactive tables.';\n",
              "        element.innerHTML = '';\n",
              "        dataTable['output_type'] = 'display_data';\n",
              "        await google.colab.output.renderOutput(dataTable, element);\n",
              "        const docLink = document.createElement('div');\n",
              "        docLink.innerHTML = docLinkHtml;\n",
              "        element.appendChild(docLink);\n",
              "      }\n",
              "    </script>\n",
              "  </div>\n",
              "\n",
              "\n",
              "<div id=\"df-660a3b14-d876-4318-b0db-613346088c1c\">\n",
              "  <button class=\"colab-df-quickchart\" onclick=\"quickchart('df-660a3b14-d876-4318-b0db-613346088c1c')\"\n",
              "            title=\"Suggest charts\"\n",
              "            style=\"display:none;\">\n",
              "\n",
              "<svg xmlns=\"http://www.w3.org/2000/svg\" height=\"24px\"viewBox=\"0 0 24 24\"\n",
              "     width=\"24px\">\n",
              "    <g>\n",
              "        <path d=\"M19 3H5c-1.1 0-2 .9-2 2v14c0 1.1.9 2 2 2h14c1.1 0 2-.9 2-2V5c0-1.1-.9-2-2-2zM9 17H7v-7h2v7zm4 0h-2V7h2v10zm4 0h-2v-4h2v4z\"/>\n",
              "    </g>\n",
              "</svg>\n",
              "  </button>\n",
              "\n",
              "<style>\n",
              "  .colab-df-quickchart {\n",
              "      --bg-color: #E8F0FE;\n",
              "      --fill-color: #1967D2;\n",
              "      --hover-bg-color: #E2EBFA;\n",
              "      --hover-fill-color: #174EA6;\n",
              "      --disabled-fill-color: #AAA;\n",
              "      --disabled-bg-color: #DDD;\n",
              "  }\n",
              "\n",
              "  [theme=dark] .colab-df-quickchart {\n",
              "      --bg-color: #3B4455;\n",
              "      --fill-color: #D2E3FC;\n",
              "      --hover-bg-color: #434B5C;\n",
              "      --hover-fill-color: #FFFFFF;\n",
              "      --disabled-bg-color: #3B4455;\n",
              "      --disabled-fill-color: #666;\n",
              "  }\n",
              "\n",
              "  .colab-df-quickchart {\n",
              "    background-color: var(--bg-color);\n",
              "    border: none;\n",
              "    border-radius: 50%;\n",
              "    cursor: pointer;\n",
              "    display: none;\n",
              "    fill: var(--fill-color);\n",
              "    height: 32px;\n",
              "    padding: 0;\n",
              "    width: 32px;\n",
              "  }\n",
              "\n",
              "  .colab-df-quickchart:hover {\n",
              "    background-color: var(--hover-bg-color);\n",
              "    box-shadow: 0 1px 2px rgba(60, 64, 67, 0.3), 0 1px 3px 1px rgba(60, 64, 67, 0.15);\n",
              "    fill: var(--button-hover-fill-color);\n",
              "  }\n",
              "\n",
              "  .colab-df-quickchart-complete:disabled,\n",
              "  .colab-df-quickchart-complete:disabled:hover {\n",
              "    background-color: var(--disabled-bg-color);\n",
              "    fill: var(--disabled-fill-color);\n",
              "    box-shadow: none;\n",
              "  }\n",
              "\n",
              "  .colab-df-spinner {\n",
              "    border: 2px solid var(--fill-color);\n",
              "    border-color: transparent;\n",
              "    border-bottom-color: var(--fill-color);\n",
              "    animation:\n",
              "      spin 1s steps(1) infinite;\n",
              "  }\n",
              "\n",
              "  @keyframes spin {\n",
              "    0% {\n",
              "      border-color: transparent;\n",
              "      border-bottom-color: var(--fill-color);\n",
              "      border-left-color: var(--fill-color);\n",
              "    }\n",
              "    20% {\n",
              "      border-color: transparent;\n",
              "      border-left-color: var(--fill-color);\n",
              "      border-top-color: var(--fill-color);\n",
              "    }\n",
              "    30% {\n",
              "      border-color: transparent;\n",
              "      border-left-color: var(--fill-color);\n",
              "      border-top-color: var(--fill-color);\n",
              "      border-right-color: var(--fill-color);\n",
              "    }\n",
              "    40% {\n",
              "      border-color: transparent;\n",
              "      border-right-color: var(--fill-color);\n",
              "      border-top-color: var(--fill-color);\n",
              "    }\n",
              "    60% {\n",
              "      border-color: transparent;\n",
              "      border-right-color: var(--fill-color);\n",
              "    }\n",
              "    80% {\n",
              "      border-color: transparent;\n",
              "      border-right-color: var(--fill-color);\n",
              "      border-bottom-color: var(--fill-color);\n",
              "    }\n",
              "    90% {\n",
              "      border-color: transparent;\n",
              "      border-bottom-color: var(--fill-color);\n",
              "    }\n",
              "  }\n",
              "</style>\n",
              "\n",
              "  <script>\n",
              "    async function quickchart(key) {\n",
              "      const quickchartButtonEl =\n",
              "        document.querySelector('#' + key + ' button');\n",
              "      quickchartButtonEl.disabled = true;  // To prevent multiple clicks.\n",
              "      quickchartButtonEl.classList.add('colab-df-spinner');\n",
              "      try {\n",
              "        const charts = await google.colab.kernel.invokeFunction(\n",
              "            'suggestCharts', [key], {});\n",
              "      } catch (error) {\n",
              "        console.error('Error during call to suggestCharts:', error);\n",
              "      }\n",
              "      quickchartButtonEl.classList.remove('colab-df-spinner');\n",
              "      quickchartButtonEl.classList.add('colab-df-quickchart-complete');\n",
              "    }\n",
              "    (() => {\n",
              "      let quickchartButtonEl =\n",
              "        document.querySelector('#df-660a3b14-d876-4318-b0db-613346088c1c button');\n",
              "      quickchartButtonEl.style.display =\n",
              "        google.colab.kernel.accessAllowed ? 'block' : 'none';\n",
              "    })();\n",
              "  </script>\n",
              "</div>\n",
              "\n",
              "  <div id=\"id_581b7d4b-9b39-4e49-8bda-251bdeaa8ad1\">\n",
              "    <style>\n",
              "      .colab-df-generate {\n",
              "        background-color: #E8F0FE;\n",
              "        border: none;\n",
              "        border-radius: 50%;\n",
              "        cursor: pointer;\n",
              "        display: none;\n",
              "        fill: #1967D2;\n",
              "        height: 32px;\n",
              "        padding: 0 0 0 0;\n",
              "        width: 32px;\n",
              "      }\n",
              "\n",
              "      .colab-df-generate:hover {\n",
              "        background-color: #E2EBFA;\n",
              "        box-shadow: 0px 1px 2px rgba(60, 64, 67, 0.3), 0px 1px 3px 1px rgba(60, 64, 67, 0.15);\n",
              "        fill: #174EA6;\n",
              "      }\n",
              "\n",
              "      [theme=dark] .colab-df-generate {\n",
              "        background-color: #3B4455;\n",
              "        fill: #D2E3FC;\n",
              "      }\n",
              "\n",
              "      [theme=dark] .colab-df-generate:hover {\n",
              "        background-color: #434B5C;\n",
              "        box-shadow: 0px 1px 3px 1px rgba(0, 0, 0, 0.15);\n",
              "        filter: drop-shadow(0px 1px 2px rgba(0, 0, 0, 0.3));\n",
              "        fill: #FFFFFF;\n",
              "      }\n",
              "    </style>\n",
              "    <button class=\"colab-df-generate\" onclick=\"generateWithVariable('teste')\"\n",
              "            title=\"Generate code using this dataframe.\"\n",
              "            style=\"display:none;\">\n",
              "\n",
              "  <svg xmlns=\"http://www.w3.org/2000/svg\" height=\"24px\"viewBox=\"0 0 24 24\"\n",
              "       width=\"24px\">\n",
              "    <path d=\"M7,19H8.4L18.45,9,17,7.55,7,17.6ZM5,21V16.75L18.45,3.32a2,2,0,0,1,2.83,0l1.4,1.43a1.91,1.91,0,0,1,.58,1.4,1.91,1.91,0,0,1-.58,1.4L9.25,21ZM18.45,9,17,7.55Zm-12,3A5.31,5.31,0,0,0,4.9,8.1,5.31,5.31,0,0,0,1,6.5,5.31,5.31,0,0,0,4.9,4.9,5.31,5.31,0,0,0,6.5,1,5.31,5.31,0,0,0,8.1,4.9,5.31,5.31,0,0,0,12,6.5,5.46,5.46,0,0,0,6.5,12Z\"/>\n",
              "  </svg>\n",
              "    </button>\n",
              "    <script>\n",
              "      (() => {\n",
              "      const buttonEl =\n",
              "        document.querySelector('#id_581b7d4b-9b39-4e49-8bda-251bdeaa8ad1 button.colab-df-generate');\n",
              "      buttonEl.style.display =\n",
              "        google.colab.kernel.accessAllowed ? 'block' : 'none';\n",
              "\n",
              "      buttonEl.onclick = () => {\n",
              "        google.colab.notebook.generateWithVariable('teste');\n",
              "      }\n",
              "      })();\n",
              "    </script>\n",
              "  </div>\n",
              "\n",
              "    </div>\n",
              "  </div>\n"
            ],
            "application/vnd.google.colaboratory.intrinsic+json": {
              "type": "dataframe",
              "variable_name": "teste",
              "summary": "{\n  \"name\": \"teste\",\n  \"rows\": 5,\n  \"fields\": [\n    {\n      \"column\": \"Name\",\n      \"properties\": {\n        \"dtype\": \"string\",\n        \"num_unique_values\": 5,\n        \"samples\": [\n          \"Happiness\",\n          \"The Bride of Habaek\",\n          \"Bring It On, Ghost\"\n        ],\n        \"semantic_type\": \"\",\n        \"description\": \"\"\n      }\n    },\n    {\n      \"column\": \"Year\",\n      \"properties\": {\n        \"dtype\": \"number\",\n        \"std\": 2,\n        \"min\": 2016,\n        \"max\": 2021,\n        \"num_unique_values\": 3,\n        \"samples\": [\n          2021,\n          2016,\n          2017\n        ],\n        \"semantic_type\": \"\",\n        \"description\": \"\"\n      }\n    },\n    {\n      \"column\": \"Rating\",\n      \"properties\": {\n        \"dtype\": \"category\",\n        \"num_unique_values\": 3,\n        \"samples\": [\n          \"8.1 a 8.5\",\n          \"8.6 a 9\",\n          \"7 a 7.5\"\n        ],\n        \"semantic_type\": \"\",\n        \"description\": \"\"\n      }\n    },\n    {\n      \"column\": \"Ep. Duration\",\n      \"properties\": {\n        \"dtype\": \"category\",\n        \"num_unique_values\": 3,\n        \"samples\": [\n          \"00:51 a 00:60\",\n          \"00:61 a 00:70\",\n          \"00:81 a 00:95\"\n        ],\n        \"semantic_type\": \"\",\n        \"description\": \"\"\n      }\n    },\n    {\n      \"column\": \"Aired On\",\n      \"properties\": {\n        \"dtype\": \"string\",\n        \"num_unique_values\": 3,\n        \"samples\": [\n          \"Friday\",\n          \"Friday, Saturday\",\n          \"Monday, Tuesday\"\n        ],\n        \"semantic_type\": \"\",\n        \"description\": \"\"\n      }\n    },\n    {\n      \"column\": \"Romance\",\n      \"properties\": {\n        \"dtype\": \"number\",\n        \"std\": 0,\n        \"min\": 0,\n        \"max\": 1,\n        \"num_unique_values\": 2,\n        \"samples\": [\n          1,\n          0\n        ],\n        \"semantic_type\": \"\",\n        \"description\": \"\"\n      }\n    },\n    {\n      \"column\": \"Drama\",\n      \"properties\": {\n        \"dtype\": \"number\",\n        \"std\": 0,\n        \"min\": 0,\n        \"max\": 1,\n        \"num_unique_values\": 2,\n        \"samples\": [\n          0,\n          1\n        ],\n        \"semantic_type\": \"\",\n        \"description\": \"\"\n      }\n    },\n    {\n      \"column\": \"Youth\",\n      \"properties\": {\n        \"dtype\": \"number\",\n        \"std\": 0,\n        \"min\": 0,\n        \"max\": 0,\n        \"num_unique_values\": 1,\n        \"samples\": [\n          0\n        ],\n        \"semantic_type\": \"\",\n        \"description\": \"\"\n      }\n    },\n    {\n      \"column\": \"Love Triangle\",\n      \"properties\": {\n        \"dtype\": \"number\",\n        \"std\": 0,\n        \"min\": 0,\n        \"max\": 0,\n        \"num_unique_values\": 1,\n        \"samples\": [\n          0\n        ],\n        \"semantic_type\": \"\",\n        \"description\": \"\"\n      }\n    },\n    {\n      \"column\": \"Adapted From A Webtoon\",\n      \"properties\": {\n        \"dtype\": \"number\",\n        \"std\": 0,\n        \"min\": 0,\n        \"max\": 1,\n        \"num_unique_values\": 2,\n        \"samples\": [\n          1\n        ],\n        \"semantic_type\": \"\",\n        \"description\": \"\"\n      }\n    },\n    {\n      \"column\": \"High School\",\n      \"properties\": {\n        \"dtype\": \"number\",\n        \"std\": 0,\n        \"min\": 0,\n        \"max\": 0,\n        \"num_unique_values\": 1,\n        \"samples\": [\n          0\n        ],\n        \"semantic_type\": \"\",\n        \"description\": \"\"\n      }\n    }\n  ]\n}"
            }
          },
          "metadata": {}
        }
      ]
    },
    {
      "cell_type": "code",
      "source": [
        "inferencia = VariableElimination(estrutura)\n",
        "\n",
        "predicoes = []\n",
        "for index, row in teste.iterrows():\n",
        "    dados_inferencia = {\n",
        "        'Year': row['Year'],\n",
        "        'Ep. Duration': row['Ep. Duration'],\n",
        "        'Aired On': row['Aired On'],\n",
        "        'Romance': row['Romance'],\n",
        "        'Drama': row['Drama'],\n",
        "        'Youth': row['Youth'],\n",
        "        'Love Triangle': row['Love Triangle'],\n",
        "        'Adapted From A Webtoon': row['Adapted From A Webtoon'],\n",
        "        'High School': row['High School']\n",
        "    }\n",
        "\n",
        "    predicao_rating = inferencia.query(variables=['Rating'], evidence=dados_inferencia)\n",
        "    predicoes.append(predicao_rating)\n",
        "\n",
        "for i, pred in enumerate(predicoes):\n",
        "    print(f\"Predição {teste['Name'].iloc[i]}:\")\n",
        "    print(pred)\n",
        "    print(f\"Valor real: {teste['Rating'].iloc[i]}\\n\")"
      ],
      "metadata": {
        "colab": {
          "base_uri": "https://localhost:8080/"
        },
        "id": "cUa3UAsiPTR7",
        "outputId": "2f18ee57-2a22-4c87-d7b8-02013f20d000"
      },
      "execution_count": 175,
      "outputs": [
        {
          "output_type": "stream",
          "name": "stdout",
          "text": [
            "Predição Squid Game:\n",
            "+-------------------+---------------+\n",
            "| Rating            |   phi(Rating) |\n",
            "+===================+===============+\n",
            "| Rating(7 a 7.5)   |        0.0000 |\n",
            "+-------------------+---------------+\n",
            "| Rating(7.6 a 8)   |        0.0000 |\n",
            "+-------------------+---------------+\n",
            "| Rating(8.1 a 8.5) |        0.5000 |\n",
            "+-------------------+---------------+\n",
            "| Rating(8.6 a 9)   |        0.0000 |\n",
            "+-------------------+---------------+\n",
            "| Rating(9.1 a 10)  |        0.5000 |\n",
            "+-------------------+---------------+\n",
            "Valor real: 8.1 a 8.5\n",
            "\n",
            "Predição Happiness:\n",
            "+-------------------+---------------+\n",
            "| Rating            |   phi(Rating) |\n",
            "+===================+===============+\n",
            "| Rating(7 a 7.5)   |        0.0000 |\n",
            "+-------------------+---------------+\n",
            "| Rating(7.6 a 8)   |        0.0000 |\n",
            "+-------------------+---------------+\n",
            "| Rating(8.1 a 8.5) |        0.0000 |\n",
            "+-------------------+---------------+\n",
            "| Rating(8.6 a 9)   |        0.9999 |\n",
            "+-------------------+---------------+\n",
            "| Rating(9.1 a 10)  |        0.0000 |\n",
            "+-------------------+---------------+\n",
            "Valor real: 8.6 a 9\n",
            "\n",
            "Predição Bring It On, Ghost:\n",
            "+-------------------+---------------+\n",
            "| Rating            |   phi(Rating) |\n",
            "+===================+===============+\n",
            "| Rating(7 a 7.5)   |        0.0000 |\n",
            "+-------------------+---------------+\n",
            "| Rating(7.6 a 8)   |        0.0000 |\n",
            "+-------------------+---------------+\n",
            "| Rating(8.1 a 8.5) |        0.9999 |\n",
            "+-------------------+---------------+\n",
            "| Rating(8.6 a 9)   |        0.0000 |\n",
            "+-------------------+---------------+\n",
            "| Rating(9.1 a 10)  |        0.0000 |\n",
            "+-------------------+---------------+\n",
            "Valor real: 8.1 a 8.5\n",
            "\n",
            "Predição Goblin:\n",
            "+-------------------+---------------+\n",
            "| Rating            |   phi(Rating) |\n",
            "+===================+===============+\n",
            "| Rating(7 a 7.5)   |        0.0000 |\n",
            "+-------------------+---------------+\n",
            "| Rating(7.6 a 8)   |        0.0000 |\n",
            "+-------------------+---------------+\n",
            "| Rating(8.1 a 8.5) |        0.0000 |\n",
            "+-------------------+---------------+\n",
            "| Rating(8.6 a 9)   |        0.9999 |\n",
            "+-------------------+---------------+\n",
            "| Rating(9.1 a 10)  |        0.0000 |\n",
            "+-------------------+---------------+\n",
            "Valor real: 8.6 a 9\n",
            "\n",
            "Predição The Bride of Habaek:\n",
            "+-------------------+---------------+\n",
            "| Rating            |   phi(Rating) |\n",
            "+===================+===============+\n",
            "| Rating(7 a 7.5)   |        0.5000 |\n",
            "+-------------------+---------------+\n",
            "| Rating(7.6 a 8)   |        0.0000 |\n",
            "+-------------------+---------------+\n",
            "| Rating(8.1 a 8.5) |        0.5000 |\n",
            "+-------------------+---------------+\n",
            "| Rating(8.6 a 9)   |        0.0000 |\n",
            "+-------------------+---------------+\n",
            "| Rating(9.1 a 10)  |        0.0000 |\n",
            "+-------------------+---------------+\n",
            "Valor real: 7 a 7.5\n",
            "\n"
          ]
        }
      ]
    },
    {
      "cell_type": "markdown",
      "source": [
        "O código realiza a inferência da variável **Rating** para cada drama do conjunto de teste, utilizando as evidências fornecidas pelas demais variáveis. Com base na rede bayesiana previamente treinada, o modelo foi capaz de prever corretamente todos os valores de **Rating**, atingindo **100% de acerto** nas predições."
      ],
      "metadata": {
        "id": "4X-HVDSMTprn"
      }
    }
  ]
}